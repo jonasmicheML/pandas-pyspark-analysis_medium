{
 "cells": [
  {
   "attachments": {},
   "cell_type": "markdown",
   "metadata": {},
   "source": [
    "# 0. Data Creation Notebook"
   ]
  },
  {
   "cell_type": "markdown",
   "metadata": {},
   "source": [
    "This notebook is for creating the data for the project. The data is created randomly, but with some constraints. It is stored in the `data` folder."
   ]
  },
  {
   "cell_type": "code",
   "execution_count": null,
   "metadata": {},
   "outputs": [],
   "source": [
    "import pandas as pd\n",
    "import utils"
   ]
  },
  {
   "attachments": {},
   "cell_type": "markdown",
   "metadata": {},
   "source": [
    "Create small step dataframes with 10_000 to 100_000 rows (stepsize: 10_000) - 14 sec"
   ]
  },
  {
   "cell_type": "code",
   "execution_count": null,
   "metadata": {},
   "outputs": [],
   "source": [
    "small_step_df = []\n",
    "for i in range(10_000, 100_001, 10_000):\n",
    "    df = utils.create_random_df(i, 20)\n",
    "    small_step_df.append(df)\n",
    "\n",
    "# create statistics dataframe\n",
    "time_statistics_small = pd.DataFrame(columns=[\"row_count\", \"column_count\"])\n",
    "\n",
    "\n",
    "for i in range(len(small_step_df)):\n",
    "    df = small_step_df[i]\n",
    "    # save df to csv\n",
    "    df.to_csv(f\"data/small/pandas_test_{df.shape[0]}_rows.csv\", index=False)\n",
    "    # fill statistics dataframe\n",
    "    time_statistics_small.loc[i] = [df.shape[0], df.shape[1]]"
   ]
  },
  {
   "attachments": {},
   "cell_type": "markdown",
   "metadata": {},
   "source": [
    "Create large step dataframes with 50_000 to 1_000_000 rows (stepsize: 50_000) - 4 min"
   ]
  },
  {
   "cell_type": "code",
   "execution_count": null,
   "metadata": {},
   "outputs": [],
   "source": [
    "large_step_df = []\n",
    "for i in range(50_000, 1_000_001, 50_000):\n",
    "    df = utils.create_random_df(i, 20)\n",
    "    large_step_df.append(df)\n",
    "\n",
    "# create statistics dataframe\n",
    "time_statistics_large = pd.DataFrame(columns=[\"row_count\", \"column_count\"])\n",
    "\n",
    "for i in range(len(large_step_df)):\n",
    "    df = large_step_df[i]\n",
    "    # save df to csv\n",
    "    df.to_csv(f\"data/large/pandas_test_{df.shape[0]}_rows.csv\", index=False)\n",
    "    # fill statistics dataframe\n",
    "    time_statistics_large.loc[i] = [df.shape[0], df.shape[1]]"
   ]
  },
  {
   "attachments": {},
   "cell_type": "markdown",
   "metadata": {},
   "source": [
    "Do not run the next cell, this will clear all the statistics dataframes."
   ]
  },
  {
   "cell_type": "code",
   "execution_count": null,
   "metadata": {},
   "outputs": [],
   "source": [
    "# save the statistics dataframes\n",
    "time_statistics_large.to_csv(\"data/time_statistics_large.csv\")\n",
    "time_statistics_small.to_csv(\"data/time_statistics_small.csv\")"
   ]
  }
 ],
 "metadata": {
  "kernelspec": {
   "display_name": "PySpark_comp",
   "language": "python",
   "name": "python3"
  },
  "language_info": {
   "codemirror_mode": {
    "name": "ipython",
    "version": 3
   },
   "file_extension": ".py",
   "mimetype": "text/x-python",
   "name": "python",
   "nbconvert_exporter": "python",
   "pygments_lexer": "ipython3",
   "version": "3.7.16"
  },
  "orig_nbformat": 4
 },
 "nbformat": 4,
 "nbformat_minor": 2
}
