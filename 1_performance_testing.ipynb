{
 "cells": [
  {
   "cell_type": "markdown",
   "metadata": {},
   "source": [
    "# 1. Performance Testing Notebook\n",
    "\n",
    "This notebook is designed for conducting performance tests and analyzing the execution time of different operations (both in Pandas and PySpark)."
   ]
  },
  {
   "cell_type": "code",
   "execution_count": null,
   "metadata": {},
   "outputs": [],
   "source": [
    "import pandas as pd\n",
    "import utils\n",
    "import test_functions as test\n",
    "\n",
    "from pyspark.sql import SparkSession"
   ]
  },
  {
   "attachments": {},
   "cell_type": "markdown",
   "metadata": {},
   "source": [
    "## Load Data"
   ]
  },
  {
   "attachments": {},
   "cell_type": "markdown",
   "metadata": {},
   "source": [
    "### Load Pandas Dataframes \n",
    "execution time: 37 seconds"
   ]
  },
  {
   "cell_type": "code",
   "execution_count": null,
   "metadata": {},
   "outputs": [],
   "source": [
    "# load small step data\n",
    "small_step_pd = []\n",
    "for i in range(10_000, 100_001, 10_000):\n",
    "    df = pd.read_csv(f\"data/small/pandas_test_{i}_rows.csv\")\n",
    "    small_step_pd.append(df)\n",
    "\n",
    "# load large step data\n",
    "large_step_pd = []\n",
    "for i in range(50_000, 1_000_001, 50_000):\n",
    "    df = pd.read_csv(f\"data/large/pandas_test_{i}_rows.csv\")\n",
    "    large_step_pd.append(df)"
   ]
  },
  {
   "attachments": {},
   "cell_type": "markdown",
   "metadata": {},
   "source": [
    "### Load Spark Dataframes \n",
    "execution time: 28 seconds"
   ]
  },
  {
   "cell_type": "code",
   "execution_count": null,
   "metadata": {},
   "outputs": [],
   "source": [
    "# Create a SparkSession\n",
    "spark = SparkSession.builder \\\n",
    "    .appName(\"Performance Analysis\") \\\n",
    "    .getOrCreate()"
   ]
  },
  {
   "cell_type": "code",
   "execution_count": null,
   "metadata": {},
   "outputs": [],
   "source": [
    "# load small step data\n",
    "small_step_spark = []\n",
    "for i in range(10_000, 100_001, 10_000):\n",
    "    df = spark.read.csv(f\"data/small/pandas_test_{i}_rows.csv\", header=True, inferSchema=True, sep=\",\")\n",
    "    small_step_spark.append(df)\n",
    "\n",
    "# load large step data\n",
    "large_step_spark = []\n",
    "for i in range(50_000, 1_000_001, 50_000):\n",
    "    df = spark.read.csv(f\"data/large/pandas_test_{i}_rows.csv\", header=True, inferSchema=True)\n",
    "    large_step_spark.append(df)"
   ]
  },
  {
   "attachments": {},
   "cell_type": "markdown",
   "metadata": {},
   "source": [
    "## Run Tests"
   ]
  },
  {
   "attachments": {},
   "cell_type": "markdown",
   "metadata": {},
   "source": [
    "#### Test 1: Write Dataframe to CSV"
   ]
  },
  {
   "cell_type": "code",
   "execution_count": null,
   "metadata": {},
   "outputs": [],
   "source": [
    "# load time small statistics\n",
    "time_statistics_small = pd.read_csv(\"data/time_statistics_small.csv\")\n",
    "\n",
    "# run test\n",
    "time_statistics_small = utils.test_run(test.write_data, \"write_pd\", \"write_spark\", time_statistics_small, small_step_pd, small_step_spark, spark, 5)\n",
    "\n",
    "# save time small statistics\n",
    "time_statistics_small.to_csv(\"data/time_statistics_small.csv\", index=False)"
   ]
  },
  {
   "cell_type": "code",
   "execution_count": null,
   "metadata": {},
   "outputs": [],
   "source": [
    "# load time statistics\n",
    "time_statistics_large = pd.read_csv(\"data/time_statistics_large.csv\")\n",
    "\n",
    "# I iterated in steps - because of memory allocation issues\n",
    "# if you run the test on your own machine, modify the steps accordingly\n",
    "for i in range(17, 20):\n",
    "    df_pd = large_step_pd[i]\n",
    "    df_spark = large_step_spark[i]\n",
    "    print(df_pd.shape)\n",
    "    average_pandas_time, average_pyspark_time, _ , _ = utils.test_iterations(test.write_data, 5, spark, df_pd, df_spark)\n",
    "    time_statistics_large.loc[(time_statistics_large['row_count'] == df_pd.shape[0]) & (time_statistics_large[\"column_count\"] == df_pd.shape[1]), [\"write_pd\", \"write_spark\"]] = [average_pandas_time, average_pyspark_time]\n",
    "\n",
    "# save time statistics\n",
    "time_statistics_large.to_csv(\"data/time_statistics_large.csv\", index=False)"
   ]
  },
  {
   "cell_type": "markdown",
   "metadata": {},
   "source": [
    "#### Test 2: Load Dataframe from CSV"
   ]
  },
  {
   "cell_type": "code",
   "execution_count": null,
   "metadata": {},
   "outputs": [],
   "source": [
    "# load time small statistics\n",
    "time_statistics_small = pd.read_csv(\"data/time_statistics_small.csv\")\n",
    "\n",
    "# run test\n",
    "time_statistics_small = utils.test_run(test.load_data, \"read_pd\", \"read_spark\", time_statistics_small, small_step_pd, small_step_spark, spark, 5)\n",
    "\n",
    "# save time small statistics\n",
    "time_statistics_small.to_csv(\"data/time_statistics_small.csv\", index=False)"
   ]
  },
  {
   "cell_type": "code",
   "execution_count": null,
   "metadata": {},
   "outputs": [],
   "source": [
    "# load time statistics\n",
    "time_statistics_large = pd.read_csv(\"data/time_statistics_large.csv\")\n",
    "\n",
    "# run test\n",
    "time_statistics_large = utils.test_run(test.load_data, \"read_pd\", \"read_spark\", time_statistics_large, large_step_pd, large_step_spark, spark, 5)\n",
    "\n",
    "# save time statistics\n",
    "time_statistics_large.to_csv(\"data/time_statistics_large.csv\", index=False)"
   ]
  },
  {
   "cell_type": "markdown",
   "metadata": {},
   "source": [
    "#### Test 3: Drop NaN Values"
   ]
  },
  {
   "cell_type": "code",
   "execution_count": null,
   "metadata": {},
   "outputs": [],
   "source": [
    "# load time small statistics\n",
    "time_statistics_small = pd.read_csv(\"data/time_statistics_small.csv\")\n",
    "\n",
    "# run test\n",
    "time_statistics_small = utils.test_run(test.drop_nan, \"drop_na_pd\", \"drop_na_spark\", time_statistics_small, small_step_pd, small_step_spark, spark, 100)\n",
    "\n",
    "# save time small statistics\n",
    "time_statistics_small.to_csv(\"data/time_statistics_small.csv\", index=False)"
   ]
  },
  {
   "cell_type": "code",
   "execution_count": null,
   "metadata": {},
   "outputs": [],
   "source": [
    "# load time statistics\n",
    "time_statistics_large = pd.read_csv(\"data/time_statistics_large.csv\")\n",
    "\n",
    "# run test\n",
    "time_statistics_large = utils.test_run(test.drop_nan, \"drop_na_pd\", \"drop_na_spark\", time_statistics_large, large_step_pd, large_step_spark, spark, 100)\n",
    "\n",
    "# save time statistics\n",
    "time_statistics_large.to_csv(\"data/time_statistics_large.csv\", index=False)"
   ]
  },
  {
   "cell_type": "markdown",
   "metadata": {},
   "source": [
    "#### Test 4: Fill NaN Values"
   ]
  },
  {
   "cell_type": "code",
   "execution_count": null,
   "metadata": {},
   "outputs": [],
   "source": [
    "# load time small statistics\n",
    "time_statistics_small = pd.read_csv(\"data/time_statistics_small.csv\")\n",
    "\n",
    "# run test\n",
    "time_statistics_small = utils.test_run(test.fill_nan, \"fill_na_pd\", \"fill_na_spark\", time_statistics_small, small_step_pd, small_step_spark, spark, 100)\n",
    "\n",
    "# save time small statistics\n",
    "time_statistics_small.to_csv(\"data/time_statistics_small.csv\", index=False)"
   ]
  },
  {
   "cell_type": "code",
   "execution_count": null,
   "metadata": {},
   "outputs": [],
   "source": [
    "# load time statistics\n",
    "time_statistics_large = pd.read_csv(\"data/time_statistics_large.csv\")\n",
    "\n",
    "# run test\n",
    "time_statistics_large = utils.test_run(test.fill_nan, \"fill_na_pd\", \"fill_na_spark\", time_statistics_large, large_step_pd, large_step_spark, spark, 50)\n",
    "\n",
    "# save time statistics\n",
    "time_statistics_large.to_csv(\"data/time_statistics_large.csv\", index=False)"
   ]
  },
  {
   "cell_type": "markdown",
   "metadata": {},
   "source": [
    "#### Test 5: Groupby"
   ]
  },
  {
   "cell_type": "code",
   "execution_count": null,
   "metadata": {},
   "outputs": [],
   "source": [
    "# load time small statistics\n",
    "time_statistics_small = pd.read_csv(\"data/time_statistics_small.csv\")\n",
    "\n",
    "# run test\n",
    "time_statistics_small = utils.test_run(test.group_df, \"group_pd\", \"group_spark\", time_statistics_small, small_step_pd, small_step_spark, spark, 100)\n",
    "\n",
    "# save time small statistics\n",
    "time_statistics_small.to_csv(\"data/time_statistics_small.csv\", index=False)"
   ]
  },
  {
   "cell_type": "code",
   "execution_count": null,
   "metadata": {},
   "outputs": [],
   "source": [
    "# load time statistics\n",
    "time_statistics_large = pd.read_csv(\"data/time_statistics_large.csv\")\n",
    "\n",
    "# run test\n",
    "time_statistics_large = utils.test_run(test.group_df, \"group_pd\", \"group_spark\", time_statistics_large, large_step_pd, large_step_spark, spark, 100)\n",
    "\n",
    "# save time statistics\n",
    "time_statistics_large.to_csv(\"data/time_statistics_large.csv\", index=False)"
   ]
  },
  {
   "cell_type": "markdown",
   "metadata": {},
   "source": [
    "#### Test 6: GroupBy and Sum"
   ]
  },
  {
   "cell_type": "code",
   "execution_count": null,
   "metadata": {},
   "outputs": [],
   "source": [
    "# load time small statistics\n",
    "time_statistics_small = pd.read_csv(\"data/time_statistics_small.csv\")\n",
    "\n",
    "# run test\n",
    "time_statistics_small = utils.test_run(test.group_sum_df, \"group_sum_pd\", \"group_sum_spark\", time_statistics_small, small_step_pd, small_step_spark, spark, 50)\n",
    "\n",
    "# save time small statistics\n",
    "time_statistics_small.to_csv(\"data/time_statistics_small.csv\", index=False)"
   ]
  },
  {
   "cell_type": "code",
   "execution_count": null,
   "metadata": {},
   "outputs": [],
   "source": [
    "# load time statistics\n",
    "time_statistics_large = pd.read_csv(\"data/time_statistics_large.csv\")\n",
    "\n",
    "# run test\n",
    "time_statistics_large = utils.test_run(test.group_sum_df, \"group_sum_pd\", \"group_sum_spark\", time_statistics_large, large_step_pd, large_step_spark, spark, 30)\n",
    "\n",
    "# save time statistics\n",
    "time_statistics_large.to_csv(\"data/time_statistics_large.csv\", index=False)"
   ]
  },
  {
   "cell_type": "markdown",
   "metadata": {},
   "source": [
    "#### Test 7: GroupBy and Count"
   ]
  },
  {
   "cell_type": "code",
   "execution_count": null,
   "metadata": {},
   "outputs": [],
   "source": [
    "# load time small statistics\n",
    "time_statistics_small = pd.read_csv(\"data/time_statistics_small.csv\")\n",
    "\n",
    "# run test\n",
    "time_statistics_small = utils.test_run(test.group_count_df, \"group_count_pd\", \"group_count_spark\", time_statistics_small, small_step_pd, small_step_spark, spark, 50)\n",
    "\n",
    "# save time small statistics\n",
    "time_statistics_small.to_csv(\"data/time_statistics_small.csv\", index=False)"
   ]
  },
  {
   "cell_type": "code",
   "execution_count": null,
   "metadata": {},
   "outputs": [],
   "source": [
    "# load time statistics\n",
    "time_statistics_large = pd.read_csv(\"data/time_statistics_large.csv\")\n",
    "\n",
    "# run test\n",
    "time_statistics_large = utils.test_run(test.group_count_df, \"group_count_pd\", \"group_count_spark\", time_statistics_large, large_step_pd, large_step_spark, spark, 30)\n",
    "\n",
    "# save time statistics\n",
    "time_statistics_large.to_csv(\"data/time_statistics_large.csv\", index=False)"
   ]
  },
  {
   "cell_type": "markdown",
   "metadata": {},
   "source": [
    "#### Test 8: Filter by Column Value (under 0)"
   ]
  },
  {
   "cell_type": "code",
   "execution_count": null,
   "metadata": {},
   "outputs": [],
   "source": [
    "# load time small statistics\n",
    "time_statistics_small = pd.read_csv(\"data/time_statistics_small.csv\")\n",
    "\n",
    "# run test\n",
    "time_statistics_small = utils.test_run(test.filter_less_0, \"filter_less_0_pd\", \"filter_less_0_spark\", time_statistics_small, small_step_pd, small_step_spark, spark, 100)\n",
    "\n",
    "# save time small statistics\n",
    "time_statistics_small.to_csv(\"data/time_statistics_small.csv\", index=False)"
   ]
  },
  {
   "cell_type": "code",
   "execution_count": null,
   "metadata": {},
   "outputs": [],
   "source": [
    "# load time statistics\n",
    "time_statistics_large = pd.read_csv(\"data/time_statistics_large.csv\")\n",
    "\n",
    "# run test\n",
    "time_statistics_large = utils.test_run(test.filter_less_0, \"filter_less_0_pd\", \"filter_less_0_spark\", time_statistics_large, large_step_pd, large_step_spark, spark, 50)\n",
    "\n",
    "# save time statistics\n",
    "time_statistics_large.to_csv(\"data/time_statistics_large.csv\", index=False)"
   ]
  },
  {
   "cell_type": "markdown",
   "metadata": {},
   "source": [
    "#### Test 9: Filter by Column Value (under 10)"
   ]
  },
  {
   "cell_type": "code",
   "execution_count": null,
   "metadata": {},
   "outputs": [],
   "source": [
    "# load time small statistics\n",
    "time_statistics_small = pd.read_csv(\"data/time_statistics_small.csv\")\n",
    "\n",
    "# run test\n",
    "time_statistics_small = utils.test_run(test.filter_less_10, \"filter_less_10_pd\", \"filter_less_10_spark\", time_statistics_small, small_step_pd, small_step_spark, spark, 100)\n",
    "\n",
    "# save time small statistics\n",
    "time_statistics_small.to_csv(\"data/time_statistics_small.csv\", index=False)"
   ]
  },
  {
   "cell_type": "code",
   "execution_count": null,
   "metadata": {},
   "outputs": [],
   "source": [
    "# load time statistics\n",
    "time_statistics_large = pd.read_csv(\"data/time_statistics_large.csv\")\n",
    "\n",
    "# run test\n",
    "time_statistics_large = utils.test_run(test.filter_less_10, \"filter_less_10_pd\", \"filter_less_10_spark\", time_statistics_large, large_step_pd, large_step_spark, spark, 50)\n",
    "\n",
    "# save time statistics\n",
    "time_statistics_large.to_csv(\"data/time_statistics_large.csv\", index=False)"
   ]
  },
  {
   "cell_type": "markdown",
   "metadata": {},
   "source": [
    "#### Test 10: Join Dataframes"
   ]
  },
  {
   "cell_type": "code",
   "execution_count": null,
   "metadata": {},
   "outputs": [],
   "source": [
    "# load time small statistics\n",
    "time_statistics_small = pd.read_csv(\"data/time_statistics_small.csv\")\n",
    "\n",
    "# run test\n",
    "time_statistics_small = utils.test_run(test.join_df, \"join_pd\", \"join_spark\", time_statistics_small, small_step_pd, small_step_spark, spark, 5)\n",
    "\n",
    "# save time small statistics\n",
    "time_statistics_small.to_csv(\"data/time_statistics_small.csv\", index=False)\n"
   ]
  },
  {
   "cell_type": "code",
   "execution_count": null,
   "metadata": {},
   "outputs": [],
   "source": [
    "# load time statistics\n",
    "time_statistics_large = pd.read_csv(\"data/time_statistics_large.csv\")\n",
    "\n",
    "# run test\n",
    "time_statistics_large = utils.test_run(test.join_df, \"join_pd\", \"join_spark\", time_statistics_large, large_step_pd, large_step_spark, spark, 3)\n",
    "\n",
    "# save time statistics\n",
    "time_statistics_large.to_csv(\"data/time_statistics_large.csv\", index=False)"
   ]
  },
  {
   "cell_type": "markdown",
   "metadata": {},
   "source": [
    "#### Test 11: Multiplication (Build-In)"
   ]
  },
  {
   "cell_type": "code",
   "execution_count": null,
   "metadata": {},
   "outputs": [],
   "source": [
    "# load time statistics\n",
    "time_statistics_small = pd.read_csv(\"data/time_statistics_small.csv\")\n",
    "\n",
    "# run test\n",
    "time_statistics_small = utils.test_run(test.multiply_build_in, \"mul_build_pd\", \"mul_build_spark\", time_statistics_small, small_step_pd, small_step_spark, 100000)\n",
    "\n",
    "# save time small statistics\n",
    "time_statistics_small.to_csv(\"data/time_statistics_small.csv\", index=False)"
   ]
  },
  {
   "cell_type": "code",
   "execution_count": null,
   "metadata": {},
   "outputs": [],
   "source": [
    "# load time statistics\n",
    "time_statistics_large = pd.read_csv(\"data/time_statistics_large.csv\")\n",
    "\n",
    "# run test\n",
    "time_statistics_large = utils.test_run(test.multiply_build_in, \"mul_build_pd\", \"mul_build_spark\", time_statistics_large, large_step_pd, large_step_spark, 100000)\n",
    "\n",
    "# save time statistics\n",
    "time_statistics_large.to_csv(\"data/time_statistics_large.csv\", index=False)"
   ]
  },
  {
   "cell_type": "markdown",
   "metadata": {},
   "source": [
    "#### Test 12: Multiplication (Column)"
   ]
  },
  {
   "cell_type": "code",
   "execution_count": null,
   "metadata": {},
   "outputs": [],
   "source": [
    "# load time small statistics\n",
    "time_statistics_small = pd.read_csv(\"data/time_statistics_small.csv\")\n",
    "\n",
    "# run test\n",
    "time_statistics_small = utils.test_run(test.multiply_by_selection, \"mul_col_pd\", \"mul_col_spark\", time_statistics_small, small_step_pd, small_step_spark, spark, 1000)\n",
    "\n",
    "# save time small statistics\n",
    "time_statistics_small.to_csv(\"data/time_statistics_small.csv\", index=False)"
   ]
  },
  {
   "cell_type": "code",
   "execution_count": null,
   "metadata": {},
   "outputs": [],
   "source": [
    "# load time statistics\n",
    "time_statistics_large = pd.read_csv(\"data/time_statistics_large.csv\")\n",
    "\n",
    "# run test\n",
    "time_statistics_large = utils.test_run(test.multiply_by_selection, \"mul_col_pd\", \"mul_col_spark\", time_statistics_large, large_step_pd, large_step_spark, spark, 500)\n",
    "\n",
    "# save time statistics\n",
    "time_statistics_large.to_csv(\"data/time_statistics_large.csv\", index=False)"
   ]
  },
  {
   "cell_type": "markdown",
   "metadata": {},
   "source": [
    "#### Test 13: Convert Dataframe"
   ]
  },
  {
   "cell_type": "code",
   "execution_count": null,
   "metadata": {},
   "outputs": [],
   "source": [
    "# load time small statistics\n",
    "time_statistics_small = pd.read_csv(\"data/time_statistics_small.csv\")\n",
    "\n",
    "# run test\n",
    "time_statistics_small = utils.test_run(test.convert_df, \"pd_to_spark\", \"pyspark_to_pd\", time_statistics_small, small_step_pd, small_step_spark, spark, 5)\n",
    "\n",
    "# save time small statistics\n",
    "time_statistics_small.to_csv(\"data/time_statistics_small.csv\", index=False)"
   ]
  },
  {
   "cell_type": "code",
   "execution_count": null,
   "metadata": {},
   "outputs": [],
   "source": [
    "# load time statistics\n",
    "time_statistics_large = pd.read_csv(\"data/time_statistics_large.csv\")\n",
    "\n",
    "# I iterated in steps - because of memory allocation issues\n",
    "for i in range(18, 20):\n",
    "    df_pd = large_step_pd[i]\n",
    "    df_spark = large_step_spark[i]\n",
    "    print(df_pd.shape)\n",
    "    average_pandas_time, average_pyspark_time, _ , _ = utils.test_iterations(test.convert_df, 5, spark, df_pd, df_spark)\n",
    "    time_statistics_large.loc[(time_statistics_large['row_count'] == df_pd.shape[0]) & (time_statistics_large[\"column_count\"] == df_pd.shape[1]), [\"pd_to_spark\", \"pyspark_to_pd\"]] = [average_pandas_time, average_pyspark_time]\n",
    "\n",
    "# save time statistics\n",
    "time_statistics_large.to_csv(\"data/time_statistics_large.csv\", index=False)"
   ]
  }
 ],
 "metadata": {
  "kernelspec": {
   "display_name": "data-science_dublin",
   "language": "python",
   "name": "python3"
  },
  "language_info": {
   "codemirror_mode": {
    "name": "ipython",
    "version": 3
   },
   "file_extension": ".py",
   "mimetype": "text/x-python",
   "name": "python",
   "nbconvert_exporter": "python",
   "pygments_lexer": "ipython3",
   "version": "3.7.16"
  },
  "orig_nbformat": 4
 },
 "nbformat": 4,
 "nbformat_minor": 2
}
