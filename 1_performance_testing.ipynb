{
 "cells": [
  {
   "cell_type": "markdown",
   "metadata": {},
   "source": [
    "# 1. Performance Testing Notebook\n",
    "\n",
    "This notebook is designed for conducting performance tests and analyzing the execution time of different operations (both in Pandas and PySpark)."
   ]
  },
  {
   "attachments": {},
   "cell_type": "markdown",
   "metadata": {},
   "source": [
    "Imports"
   ]
  },
  {
   "cell_type": "code",
   "execution_count": 1,
   "metadata": {},
   "outputs": [],
   "source": [
    "import pandas as pd\n",
    "import utils\n",
    "import test_functions as test\n",
    "\n",
    "from pyspark.sql import SparkSession"
   ]
  },
  {
   "attachments": {},
   "cell_type": "markdown",
   "metadata": {},
   "source": [
    "## Load Data"
   ]
  },
  {
   "attachments": {},
   "cell_type": "markdown",
   "metadata": {},
   "source": [
    "### Load Pandas Dataframes \n",
    "execution time: 37 seconds"
   ]
  },
  {
   "cell_type": "code",
   "execution_count": 2,
   "metadata": {},
   "outputs": [],
   "source": [
    "# load small step data\n",
    "small_step_pd = []\n",
    "for i in range(10_000, 100_001, 10_000):\n",
    "    df = pd.read_csv(f\"data/small/pandas_test_{i}_rows.csv\")\n",
    "    small_step_pd.append(df)\n",
    "\n",
    "# load large step data\n",
    "large_step_pd = []\n",
    "for i in range(50_000, 1_000_001, 50_000):\n",
    "    df = pd.read_csv(f\"data/large/pandas_test_{i}_rows.csv\")\n",
    "    large_step_pd.append(df)"
   ]
  },
  {
   "attachments": {},
   "cell_type": "markdown",
   "metadata": {},
   "source": [
    "### Load Spark Dataframes \n",
    "execution time: 28 seconds"
   ]
  },
  {
   "cell_type": "code",
   "execution_count": 3,
   "metadata": {},
   "outputs": [
    {
     "name": "stderr",
     "output_type": "stream",
     "text": [
      "WARNING: An illegal reflective access operation has occurred\n",
      "WARNING: Illegal reflective access by org.apache.spark.unsafe.Platform (file:/Users/jonas/opt/anaconda3/envs/PySpark_comp/lib/python3.7/site-packages/pyspark/jars/spark-unsafe_2.12-3.2.1.jar) to constructor java.nio.DirectByteBuffer(long,int)\n",
      "WARNING: Please consider reporting this to the maintainers of org.apache.spark.unsafe.Platform\n",
      "WARNING: Use --illegal-access=warn to enable warnings of further illegal reflective access operations\n",
      "WARNING: All illegal access operations will be denied in a future release\n",
      "Using Spark's default log4j profile: org/apache/spark/log4j-defaults.properties\n",
      "Setting default log level to \"WARN\".\n",
      "To adjust logging level use sc.setLogLevel(newLevel). For SparkR, use setLogLevel(newLevel).\n",
      "23/07/12 16:35:00 WARN NativeCodeLoader: Unable to load native-hadoop library for your platform... using builtin-java classes where applicable\n"
     ]
    }
   ],
   "source": [
    "# Create a SparkSession\n",
    "spark = SparkSession.builder \\\n",
    "    .appName(\"Performance Analysis\") \\\n",
    "    .getOrCreate()"
   ]
  },
  {
   "cell_type": "code",
   "execution_count": 4,
   "metadata": {},
   "outputs": [
    {
     "name": "stderr",
     "output_type": "stream",
     "text": [
      "                                                                                \r"
     ]
    }
   ],
   "source": [
    "# load small step data\n",
    "small_step_spark = []\n",
    "for i in range(10_000, 100_001, 10_000):\n",
    "    df = spark.read.csv(f\"data/small/pandas_test_{i}_rows.csv\", header=True, inferSchema=True, sep=\",\")\n",
    "    small_step_spark.append(df)\n",
    "\n",
    "# load large step data\n",
    "large_step_spark = []\n",
    "for i in range(50_000, 1_000_001, 50_000):\n",
    "    df = spark.read.csv(f\"data/large/pandas_test_{i}_rows.csv\", header=True, inferSchema=True)\n",
    "    large_step_spark.append(df)"
   ]
  },
  {
   "attachments": {},
   "cell_type": "markdown",
   "metadata": {},
   "source": [
    "## Run Tests"
   ]
  },
  {
   "attachments": {},
   "cell_type": "markdown",
   "metadata": {},
   "source": [
    "#### Test 1: Write Dataframe to CSV"
   ]
  },
  {
   "cell_type": "code",
   "execution_count": 48,
   "metadata": {},
   "outputs": [
    {
     "name": "stdout",
     "output_type": "stream",
     "text": [
      "(10000, 20)\n",
      "pandas_df to csv\n",
      "spark_df to csv\n",
      "pandas_df to csv\n",
      "spark_df to csv\n",
      "pandas_df to csv\n",
      "spark_df to csv\n",
      "pandas_df to csv\n",
      "spark_df to csv\n",
      "pandas_df to csv\n",
      "spark_df to csv\n",
      "(20000, 20)\n",
      "pandas_df to csv\n",
      "spark_df to csv\n",
      "pandas_df to csv\n",
      "spark_df to csv\n",
      "pandas_df to csv\n",
      "spark_df to csv\n",
      "pandas_df to csv\n",
      "spark_df to csv\n",
      "pandas_df to csv\n",
      "spark_df to csv\n",
      "(30000, 20)\n",
      "pandas_df to csv\n",
      "spark_df to csv\n",
      "pandas_df to csv\n",
      "spark_df to csv\n",
      "pandas_df to csv\n",
      "spark_df to csv\n",
      "pandas_df to csv\n",
      "spark_df to csv\n",
      "pandas_df to csv\n",
      "spark_df to csv\n",
      "(40000, 20)\n",
      "pandas_df to csv\n",
      "spark_df to csv\n",
      "pandas_df to csv\n",
      "spark_df to csv\n",
      "pandas_df to csv\n",
      "spark_df to csv\n",
      "pandas_df to csv\n",
      "spark_df to csv\n",
      "pandas_df to csv\n",
      "spark_df to csv\n",
      "(50000, 20)\n",
      "pandas_df to csv\n",
      "spark_df to csv\n",
      "pandas_df to csv\n",
      "spark_df to csv\n",
      "pandas_df to csv\n",
      "spark_df to csv\n",
      "pandas_df to csv\n",
      "spark_df to csv\n",
      "pandas_df to csv\n",
      "spark_df to csv\n",
      "(60000, 20)\n",
      "pandas_df to csv\n",
      "spark_df to csv\n",
      "pandas_df to csv\n",
      "spark_df to csv\n",
      "pandas_df to csv\n",
      "spark_df to csv\n",
      "pandas_df to csv\n",
      "spark_df to csv\n",
      "pandas_df to csv\n",
      "spark_df to csv\n",
      "(70000, 20)\n",
      "pandas_df to csv\n",
      "spark_df to csv\n",
      "pandas_df to csv\n",
      "spark_df to csv\n",
      "pandas_df to csv\n",
      "spark_df to csv\n",
      "pandas_df to csv\n",
      "spark_df to csv\n",
      "pandas_df to csv\n",
      "spark_df to csv\n",
      "(80000, 20)\n",
      "pandas_df to csv\n",
      "spark_df to csv\n",
      "pandas_df to csv\n",
      "spark_df to csv\n",
      "pandas_df to csv\n",
      "spark_df to csv\n",
      "pandas_df to csv\n",
      "spark_df to csv\n",
      "pandas_df to csv\n",
      "spark_df to csv\n",
      "(90000, 20)\n",
      "pandas_df to csv\n",
      "spark_df to csv\n",
      "pandas_df to csv\n",
      "spark_df to csv\n",
      "pandas_df to csv\n",
      "spark_df to csv\n",
      "pandas_df to csv\n",
      "spark_df to csv\n",
      "pandas_df to csv\n",
      "spark_df to csv\n",
      "(100000, 20)\n",
      "pandas_df to csv\n"
     ]
    },
    {
     "name": "stderr",
     "output_type": "stream",
     "text": [
      "23/07/03 22:07:53 WARN MemoryManager: Total allocation exceeds 95,00% (1.020.054.720 bytes) of heap memory\n",
      "Scaling row group sizes to 95,00% for 8 writers\n"
     ]
    },
    {
     "name": "stdout",
     "output_type": "stream",
     "text": [
      "spark_df to csv\n",
      "pandas_df to csv\n"
     ]
    },
    {
     "name": "stderr",
     "output_type": "stream",
     "text": [
      "23/07/03 22:07:56 WARN MemoryManager: Total allocation exceeds 95,00% (1.020.054.720 bytes) of heap memory\n",
      "Scaling row group sizes to 95,00% for 8 writers\n"
     ]
    },
    {
     "name": "stdout",
     "output_type": "stream",
     "text": [
      "spark_df to csv\n",
      "pandas_df to csv\n"
     ]
    },
    {
     "name": "stderr",
     "output_type": "stream",
     "text": [
      "23/07/03 22:07:59 WARN MemoryManager: Total allocation exceeds 95,00% (1.020.054.720 bytes) of heap memory\n",
      "Scaling row group sizes to 95,00% for 8 writers\n"
     ]
    },
    {
     "name": "stdout",
     "output_type": "stream",
     "text": [
      "spark_df to csv\n",
      "pandas_df to csv\n"
     ]
    },
    {
     "name": "stderr",
     "output_type": "stream",
     "text": [
      "23/07/03 22:08:02 WARN MemoryManager: Total allocation exceeds 95,00% (1.020.054.720 bytes) of heap memory\n",
      "Scaling row group sizes to 95,00% for 8 writers\n"
     ]
    },
    {
     "name": "stdout",
     "output_type": "stream",
     "text": [
      "spark_df to csv\n",
      "pandas_df to csv\n"
     ]
    },
    {
     "name": "stderr",
     "output_type": "stream",
     "text": [
      "23/07/03 22:08:05 WARN MemoryManager: Total allocation exceeds 95,00% (1.020.054.720 bytes) of heap memory\n",
      "Scaling row group sizes to 95,00% for 8 writers\n"
     ]
    },
    {
     "name": "stdout",
     "output_type": "stream",
     "text": [
      "spark_df to csv\n"
     ]
    }
   ],
   "source": [
    "# load time small statistics\n",
    "time_statistics_small = pd.read_csv(\"data/time_statistics_small.csv\")\n",
    "\n",
    "# iterate over small step dataframes\n",
    "for i in range(len(small_step_pd)):\n",
    "    df_pd = small_step_pd[i]\n",
    "    df_spark = small_step_spark[i]\n",
    "    print(df_pd.shape)\n",
    "    average_pandas_time, average_pyspark_time, _ , _ = utils.iterations(test.write_data, 5, spark, df_pd, df_spark)\n",
    "    time_statistics_small.loc[(time_statistics_small['row_count'] == df_pd.shape[0]) & (time_statistics_small[\"column_count\"] == df_pd.shape[1]), [\"write_pd\", \"write_spark\"]] = [average_pandas_time, average_pyspark_time]\n",
    "\n",
    "# save time small statistics\n",
    "time_statistics_small.to_csv(\"data/time_statistics_small.csv\", index=False)"
   ]
  },
  {
   "cell_type": "code",
   "execution_count": 62,
   "metadata": {},
   "outputs": [
    {
     "name": "stdout",
     "output_type": "stream",
     "text": [
      "(850000, 20)\n",
      "pandas_df to csv\n"
     ]
    },
    {
     "name": "stderr",
     "output_type": "stream",
     "text": [
      "23/07/03 22:47:44 WARN MemoryManager: Total allocation exceeds 95,00% (1.020.054.720 bytes) of heap memory\n",
      "Scaling row group sizes to 95,00% for 8 writers\n",
      "23/07/03 22:47:44 WARN MemoryManager: Total allocation exceeds 95,00% (1.020.054.720 bytes) of heap memory\n",
      "Scaling row group sizes to 84,44% for 9 writers\n",
      "23/07/03 22:47:44 WARN MemoryManager: Total allocation exceeds 95,00% (1.020.054.720 bytes) of heap memory\n",
      "Scaling row group sizes to 76,00% for 10 writers\n",
      "23/07/03 22:47:44 WARN MemoryManager: Total allocation exceeds 95,00% (1.020.054.720 bytes) of heap memory\n",
      "Scaling row group sizes to 69,09% for 11 writers\n",
      "23/07/03 22:47:44 WARN MemoryManager: Total allocation exceeds 95,00% (1.020.054.720 bytes) of heap memory\n",
      "Scaling row group sizes to 63,33% for 12 writers\n",
      "23/07/03 22:47:44 WARN MemoryManager: Total allocation exceeds 95,00% (1.020.054.720 bytes) of heap memory\n",
      "Scaling row group sizes to 58,46% for 13 writers\n",
      "23/07/03 22:47:44 WARN MemoryManager: Total allocation exceeds 95,00% (1.020.054.720 bytes) of heap memory\n",
      "Scaling row group sizes to 54,29% for 14 writers\n",
      "23/07/03 22:47:44 WARN MemoryManager: Total allocation exceeds 95,00% (1.020.054.720 bytes) of heap memory\n",
      "Scaling row group sizes to 50,67% for 15 writers\n",
      "23/07/03 22:47:44 WARN MemoryManager: Total allocation exceeds 95,00% (1.020.054.720 bytes) of heap memory\n",
      "Scaling row group sizes to 47,50% for 16 writers\n",
      "23/07/03 22:47:45 WARN MemoryManager: Total allocation exceeds 95,00% (1.020.054.720 bytes) of heap memory\n",
      "Scaling row group sizes to 50,67% for 15 writers\n",
      "23/07/03 22:47:46 WARN MemoryManager: Total allocation exceeds 95,00% (1.020.054.720 bytes) of heap memory\n",
      "Scaling row group sizes to 54,29% for 14 writers\n",
      "23/07/03 22:47:46 WARN MemoryManager: Total allocation exceeds 95,00% (1.020.054.720 bytes) of heap memory\n",
      "Scaling row group sizes to 58,46% for 13 writers\n",
      "23/07/03 22:47:46 WARN MemoryManager: Total allocation exceeds 95,00% (1.020.054.720 bytes) of heap memory\n",
      "Scaling row group sizes to 63,33% for 12 writers\n",
      "23/07/03 22:47:46 WARN MemoryManager: Total allocation exceeds 95,00% (1.020.054.720 bytes) of heap memory\n",
      "Scaling row group sizes to 69,09% for 11 writers\n",
      "23/07/03 22:47:46 WARN MemoryManager: Total allocation exceeds 95,00% (1.020.054.720 bytes) of heap memory\n",
      "Scaling row group sizes to 76,00% for 10 writers\n",
      "23/07/03 22:47:46 WARN MemoryManager: Total allocation exceeds 95,00% (1.020.054.720 bytes) of heap memory\n",
      "Scaling row group sizes to 84,44% for 9 writers\n",
      "23/07/03 22:47:46 WARN MemoryManager: Total allocation exceeds 95,00% (1.020.054.720 bytes) of heap memory\n",
      "Scaling row group sizes to 95,00% for 8 writers\n",
      "                                                                                \r"
     ]
    },
    {
     "name": "stdout",
     "output_type": "stream",
     "text": [
      "spark_df to csv\n",
      "pandas_df to csv\n"
     ]
    },
    {
     "name": "stderr",
     "output_type": "stream",
     "text": [
      "23/07/03 22:48:05 WARN MemoryManager: Total allocation exceeds 95,00% (1.020.054.720 bytes) of heap memory\n",
      "Scaling row group sizes to 95,00% for 8 writers\n",
      "23/07/03 22:48:05 WARN MemoryManager: Total allocation exceeds 95,00% (1.020.054.720 bytes) of heap memory\n",
      "Scaling row group sizes to 84,44% for 9 writers\n",
      "23/07/03 22:48:05 WARN MemoryManager: Total allocation exceeds 95,00% (1.020.054.720 bytes) of heap memory\n",
      "Scaling row group sizes to 76,00% for 10 writers\n",
      "23/07/03 22:48:05 WARN MemoryManager: Total allocation exceeds 95,00% (1.020.054.720 bytes) of heap memory\n",
      "Scaling row group sizes to 69,09% for 11 writers\n",
      "23/07/03 22:48:05 WARN MemoryManager: Total allocation exceeds 95,00% (1.020.054.720 bytes) of heap memory\n",
      "Scaling row group sizes to 63,33% for 12 writers\n",
      "23/07/03 22:48:05 WARN MemoryManager: Total allocation exceeds 95,00% (1.020.054.720 bytes) of heap memory\n",
      "Scaling row group sizes to 58,46% for 13 writers\n",
      "23/07/03 22:48:05 WARN MemoryManager: Total allocation exceeds 95,00% (1.020.054.720 bytes) of heap memory\n",
      "Scaling row group sizes to 54,29% for 14 writers\n",
      "23/07/03 22:48:05 WARN MemoryManager: Total allocation exceeds 95,00% (1.020.054.720 bytes) of heap memory\n",
      "Scaling row group sizes to 50,67% for 15 writers\n",
      "23/07/03 22:48:05 WARN MemoryManager: Total allocation exceeds 95,00% (1.020.054.720 bytes) of heap memory\n",
      "Scaling row group sizes to 47,50% for 16 writers\n",
      "23/07/03 22:48:06 WARN MemoryManager: Total allocation exceeds 95,00% (1.020.054.720 bytes) of heap memory\n",
      "Scaling row group sizes to 50,67% for 15 writers\n",
      "23/07/03 22:48:07 WARN MemoryManager: Total allocation exceeds 95,00% (1.020.054.720 bytes) of heap memory\n",
      "Scaling row group sizes to 54,29% for 14 writers\n",
      "23/07/03 22:48:07 WARN MemoryManager: Total allocation exceeds 95,00% (1.020.054.720 bytes) of heap memory\n",
      "Scaling row group sizes to 58,46% for 13 writers\n",
      "23/07/03 22:48:07 WARN MemoryManager: Total allocation exceeds 95,00% (1.020.054.720 bytes) of heap memory\n",
      "Scaling row group sizes to 63,33% for 12 writers\n",
      "23/07/03 22:48:07 WARN MemoryManager: Total allocation exceeds 95,00% (1.020.054.720 bytes) of heap memory\n",
      "Scaling row group sizes to 69,09% for 11 writers\n",
      "23/07/03 22:48:07 WARN MemoryManager: Total allocation exceeds 95,00% (1.020.054.720 bytes) of heap memory\n",
      "Scaling row group sizes to 76,00% for 10 writers\n",
      "23/07/03 22:48:07 WARN MemoryManager: Total allocation exceeds 95,00% (1.020.054.720 bytes) of heap memory\n",
      "Scaling row group sizes to 84,44% for 9 writers\n",
      "23/07/03 22:48:07 WARN MemoryManager: Total allocation exceeds 95,00% (1.020.054.720 bytes) of heap memory\n",
      "Scaling row group sizes to 95,00% for 8 writers\n",
      "                                                                                \r"
     ]
    },
    {
     "name": "stdout",
     "output_type": "stream",
     "text": [
      "spark_df to csv\n",
      "pandas_df to csv\n"
     ]
    },
    {
     "name": "stderr",
     "output_type": "stream",
     "text": [
      "23/07/03 22:48:25 WARN MemoryManager: Total allocation exceeds 95,00% (1.020.054.720 bytes) of heap memory\n",
      "Scaling row group sizes to 95,00% for 8 writers\n",
      "23/07/03 22:48:25 WARN MemoryManager: Total allocation exceeds 95,00% (1.020.054.720 bytes) of heap memory\n",
      "Scaling row group sizes to 84,44% for 9 writers\n",
      "23/07/03 22:48:25 WARN MemoryManager: Total allocation exceeds 95,00% (1.020.054.720 bytes) of heap memory\n",
      "Scaling row group sizes to 76,00% for 10 writers\n",
      "23/07/03 22:48:25 WARN MemoryManager: Total allocation exceeds 95,00% (1.020.054.720 bytes) of heap memory\n",
      "Scaling row group sizes to 69,09% for 11 writers\n",
      "23/07/03 22:48:25 WARN MemoryManager: Total allocation exceeds 95,00% (1.020.054.720 bytes) of heap memory\n",
      "Scaling row group sizes to 63,33% for 12 writers\n",
      "23/07/03 22:48:25 WARN MemoryManager: Total allocation exceeds 95,00% (1.020.054.720 bytes) of heap memory\n",
      "Scaling row group sizes to 58,46% for 13 writers\n",
      "23/07/03 22:48:25 WARN MemoryManager: Total allocation exceeds 95,00% (1.020.054.720 bytes) of heap memory\n",
      "Scaling row group sizes to 54,29% for 14 writers\n",
      "23/07/03 22:48:25 WARN MemoryManager: Total allocation exceeds 95,00% (1.020.054.720 bytes) of heap memory\n",
      "Scaling row group sizes to 50,67% for 15 writers\n",
      "23/07/03 22:48:25 WARN MemoryManager: Total allocation exceeds 95,00% (1.020.054.720 bytes) of heap memory\n",
      "Scaling row group sizes to 47,50% for 16 writers\n",
      "23/07/03 22:48:26 WARN MemoryManager: Total allocation exceeds 95,00% (1.020.054.720 bytes) of heap memory\n",
      "Scaling row group sizes to 50,67% for 15 writers\n",
      "23/07/03 22:48:27 WARN MemoryManager: Total allocation exceeds 95,00% (1.020.054.720 bytes) of heap memory\n",
      "Scaling row group sizes to 54,29% for 14 writers\n",
      "23/07/03 22:48:27 WARN MemoryManager: Total allocation exceeds 95,00% (1.020.054.720 bytes) of heap memory\n",
      "Scaling row group sizes to 58,46% for 13 writers\n",
      "23/07/03 22:48:27 WARN MemoryManager: Total allocation exceeds 95,00% (1.020.054.720 bytes) of heap memory\n",
      "Scaling row group sizes to 63,33% for 12 writers\n",
      "23/07/03 22:48:27 WARN MemoryManager: Total allocation exceeds 95,00% (1.020.054.720 bytes) of heap memory\n",
      "Scaling row group sizes to 69,09% for 11 writers\n",
      "23/07/03 22:48:27 WARN MemoryManager: Total allocation exceeds 95,00% (1.020.054.720 bytes) of heap memory\n",
      "Scaling row group sizes to 76,00% for 10 writers\n",
      "23/07/03 22:48:27 WARN MemoryManager: Total allocation exceeds 95,00% (1.020.054.720 bytes) of heap memory\n",
      "Scaling row group sizes to 84,44% for 9 writers\n",
      "23/07/03 22:48:27 WARN MemoryManager: Total allocation exceeds 95,00% (1.020.054.720 bytes) of heap memory\n",
      "Scaling row group sizes to 95,00% for 8 writers\n",
      "                                                                                \r"
     ]
    },
    {
     "name": "stdout",
     "output_type": "stream",
     "text": [
      "spark_df to csv\n",
      "pandas_df to csv\n"
     ]
    },
    {
     "name": "stderr",
     "output_type": "stream",
     "text": [
      "23/07/03 22:48:46 WARN MemoryManager: Total allocation exceeds 95,00% (1.020.054.720 bytes) of heap memory\n",
      "Scaling row group sizes to 95,00% for 8 writers\n",
      "23/07/03 22:48:46 WARN MemoryManager: Total allocation exceeds 95,00% (1.020.054.720 bytes) of heap memory\n",
      "Scaling row group sizes to 84,44% for 9 writers\n",
      "23/07/03 22:48:46 WARN MemoryManager: Total allocation exceeds 95,00% (1.020.054.720 bytes) of heap memory\n",
      "Scaling row group sizes to 76,00% for 10 writers\n",
      "23/07/03 22:48:46 WARN MemoryManager: Total allocation exceeds 95,00% (1.020.054.720 bytes) of heap memory\n",
      "Scaling row group sizes to 69,09% for 11 writers\n",
      "23/07/03 22:48:46 WARN MemoryManager: Total allocation exceeds 95,00% (1.020.054.720 bytes) of heap memory\n",
      "Scaling row group sizes to 63,33% for 12 writers\n",
      "23/07/03 22:48:46 WARN MemoryManager: Total allocation exceeds 95,00% (1.020.054.720 bytes) of heap memory\n",
      "Scaling row group sizes to 58,46% for 13 writers\n",
      "23/07/03 22:48:46 WARN MemoryManager: Total allocation exceeds 95,00% (1.020.054.720 bytes) of heap memory\n",
      "Scaling row group sizes to 54,29% for 14 writers\n",
      "23/07/03 22:48:46 WARN MemoryManager: Total allocation exceeds 95,00% (1.020.054.720 bytes) of heap memory\n",
      "Scaling row group sizes to 50,67% for 15 writers\n",
      "23/07/03 22:48:46 WARN MemoryManager: Total allocation exceeds 95,00% (1.020.054.720 bytes) of heap memory\n",
      "Scaling row group sizes to 47,50% for 16 writers\n",
      "23/07/03 22:48:47 WARN MemoryManager: Total allocation exceeds 95,00% (1.020.054.720 bytes) of heap memory\n",
      "Scaling row group sizes to 50,67% for 15 writers\n",
      "23/07/03 22:48:47 WARN MemoryManager: Total allocation exceeds 95,00% (1.020.054.720 bytes) of heap memory\n",
      "Scaling row group sizes to 54,29% for 14 writers\n",
      "23/07/03 22:48:47 WARN MemoryManager: Total allocation exceeds 95,00% (1.020.054.720 bytes) of heap memory\n",
      "Scaling row group sizes to 58,46% for 13 writers\n",
      "23/07/03 22:48:47 WARN MemoryManager: Total allocation exceeds 95,00% (1.020.054.720 bytes) of heap memory\n",
      "Scaling row group sizes to 63,33% for 12 writers\n",
      "23/07/03 22:48:47 WARN MemoryManager: Total allocation exceeds 95,00% (1.020.054.720 bytes) of heap memory\n",
      "Scaling row group sizes to 69,09% for 11 writers\n",
      "23/07/03 22:48:47 WARN MemoryManager: Total allocation exceeds 95,00% (1.020.054.720 bytes) of heap memory\n",
      "Scaling row group sizes to 76,00% for 10 writers\n",
      "23/07/03 22:48:47 WARN MemoryManager: Total allocation exceeds 95,00% (1.020.054.720 bytes) of heap memory\n",
      "Scaling row group sizes to 84,44% for 9 writers\n",
      "23/07/03 22:48:47 WARN MemoryManager: Total allocation exceeds 95,00% (1.020.054.720 bytes) of heap memory\n",
      "Scaling row group sizes to 95,00% for 8 writers\n",
      "                                                                                \r"
     ]
    },
    {
     "name": "stdout",
     "output_type": "stream",
     "text": [
      "spark_df to csv\n",
      "pandas_df to csv\n"
     ]
    },
    {
     "name": "stderr",
     "output_type": "stream",
     "text": [
      "23/07/03 22:49:07 WARN MemoryManager: Total allocation exceeds 95,00% (1.020.054.720 bytes) of heap memory\n",
      "Scaling row group sizes to 95,00% for 8 writers\n",
      "23/07/03 22:49:07 WARN MemoryManager: Total allocation exceeds 95,00% (1.020.054.720 bytes) of heap memory\n",
      "Scaling row group sizes to 84,44% for 9 writers\n",
      "23/07/03 22:49:07 WARN MemoryManager: Total allocation exceeds 95,00% (1.020.054.720 bytes) of heap memory\n",
      "Scaling row group sizes to 76,00% for 10 writers\n",
      "23/07/03 22:49:07 WARN MemoryManager: Total allocation exceeds 95,00% (1.020.054.720 bytes) of heap memory\n",
      "Scaling row group sizes to 69,09% for 11 writers\n",
      "23/07/03 22:49:07 WARN MemoryManager: Total allocation exceeds 95,00% (1.020.054.720 bytes) of heap memory\n",
      "Scaling row group sizes to 63,33% for 12 writers\n",
      "23/07/03 22:49:07 WARN MemoryManager: Total allocation exceeds 95,00% (1.020.054.720 bytes) of heap memory\n",
      "Scaling row group sizes to 58,46% for 13 writers\n",
      "23/07/03 22:49:07 WARN MemoryManager: Total allocation exceeds 95,00% (1.020.054.720 bytes) of heap memory\n",
      "Scaling row group sizes to 54,29% for 14 writers\n",
      "23/07/03 22:49:07 WARN MemoryManager: Total allocation exceeds 95,00% (1.020.054.720 bytes) of heap memory\n",
      "Scaling row group sizes to 50,67% for 15 writers\n",
      "23/07/03 22:49:07 WARN MemoryManager: Total allocation exceeds 95,00% (1.020.054.720 bytes) of heap memory\n",
      "Scaling row group sizes to 47,50% for 16 writers\n",
      "23/07/03 22:49:08 WARN MemoryManager: Total allocation exceeds 95,00% (1.020.054.720 bytes) of heap memory\n",
      "Scaling row group sizes to 50,67% for 15 writers\n",
      "23/07/03 22:49:08 WARN MemoryManager: Total allocation exceeds 95,00% (1.020.054.720 bytes) of heap memory\n",
      "Scaling row group sizes to 54,29% for 14 writers\n",
      "23/07/03 22:49:08 WARN MemoryManager: Total allocation exceeds 95,00% (1.020.054.720 bytes) of heap memory\n",
      "Scaling row group sizes to 58,46% for 13 writers\n",
      "23/07/03 22:49:08 WARN MemoryManager: Total allocation exceeds 95,00% (1.020.054.720 bytes) of heap memory\n",
      "Scaling row group sizes to 63,33% for 12 writers\n",
      "23/07/03 22:49:08 WARN MemoryManager: Total allocation exceeds 95,00% (1.020.054.720 bytes) of heap memory\n",
      "Scaling row group sizes to 69,09% for 11 writers\n",
      "23/07/03 22:49:08 WARN MemoryManager: Total allocation exceeds 95,00% (1.020.054.720 bytes) of heap memory\n",
      "Scaling row group sizes to 76,00% for 10 writers\n",
      "23/07/03 22:49:08 WARN MemoryManager: Total allocation exceeds 95,00% (1.020.054.720 bytes) of heap memory\n",
      "Scaling row group sizes to 84,44% for 9 writers\n",
      "23/07/03 22:49:08 WARN MemoryManager: Total allocation exceeds 95,00% (1.020.054.720 bytes) of heap memory\n",
      "Scaling row group sizes to 95,00% for 8 writers\n",
      "                                                                                \r"
     ]
    },
    {
     "name": "stdout",
     "output_type": "stream",
     "text": [
      "spark_df to csv\n",
      "(900000, 20)\n",
      "pandas_df to csv\n"
     ]
    },
    {
     "name": "stderr",
     "output_type": "stream",
     "text": [
      "23/07/03 22:49:28 WARN MemoryManager: Total allocation exceeds 95,00% (1.020.054.720 bytes) of heap memory\n",
      "Scaling row group sizes to 95,00% for 8 writers\n",
      "23/07/03 22:49:28 WARN MemoryManager: Total allocation exceeds 95,00% (1.020.054.720 bytes) of heap memory\n",
      "Scaling row group sizes to 84,44% for 9 writers\n",
      "23/07/03 22:49:28 WARN MemoryManager: Total allocation exceeds 95,00% (1.020.054.720 bytes) of heap memory\n",
      "Scaling row group sizes to 76,00% for 10 writers\n",
      "23/07/03 22:49:28 WARN MemoryManager: Total allocation exceeds 95,00% (1.020.054.720 bytes) of heap memory\n",
      "Scaling row group sizes to 69,09% for 11 writers\n",
      "23/07/03 22:49:28 WARN MemoryManager: Total allocation exceeds 95,00% (1.020.054.720 bytes) of heap memory\n",
      "Scaling row group sizes to 63,33% for 12 writers\n",
      "23/07/03 22:49:28 WARN MemoryManager: Total allocation exceeds 95,00% (1.020.054.720 bytes) of heap memory\n",
      "Scaling row group sizes to 58,46% for 13 writers\n",
      "23/07/03 22:49:28 WARN MemoryManager: Total allocation exceeds 95,00% (1.020.054.720 bytes) of heap memory\n",
      "Scaling row group sizes to 54,29% for 14 writers\n",
      "23/07/03 22:49:28 WARN MemoryManager: Total allocation exceeds 95,00% (1.020.054.720 bytes) of heap memory\n",
      "Scaling row group sizes to 50,67% for 15 writers\n",
      "23/07/03 22:49:28 WARN MemoryManager: Total allocation exceeds 95,00% (1.020.054.720 bytes) of heap memory\n",
      "Scaling row group sizes to 47,50% for 16 writers\n",
      "23/07/03 22:49:30 WARN MemoryManager: Total allocation exceeds 95,00% (1.020.054.720 bytes) of heap memory\n",
      "Scaling row group sizes to 50,67% for 15 writers\n",
      "23/07/03 22:49:30 WARN MemoryManager: Total allocation exceeds 95,00% (1.020.054.720 bytes) of heap memory\n",
      "Scaling row group sizes to 54,29% for 14 writers\n",
      "23/07/03 22:49:30 WARN MemoryManager: Total allocation exceeds 95,00% (1.020.054.720 bytes) of heap memory\n",
      "Scaling row group sizes to 58,46% for 13 writers\n",
      "23/07/03 22:49:30 WARN MemoryManager: Total allocation exceeds 95,00% (1.020.054.720 bytes) of heap memory\n",
      "Scaling row group sizes to 63,33% for 12 writers\n",
      "23/07/03 22:49:30 WARN MemoryManager: Total allocation exceeds 95,00% (1.020.054.720 bytes) of heap memory\n",
      "Scaling row group sizes to 69,09% for 11 writers\n",
      "23/07/03 22:49:30 WARN MemoryManager: Total allocation exceeds 95,00% (1.020.054.720 bytes) of heap memory\n",
      "Scaling row group sizes to 76,00% for 10 writers\n",
      "23/07/03 22:49:30 WARN MemoryManager: Total allocation exceeds 95,00% (1.020.054.720 bytes) of heap memory\n",
      "Scaling row group sizes to 84,44% for 9 writers\n",
      "23/07/03 22:49:30 WARN MemoryManager: Total allocation exceeds 95,00% (1.020.054.720 bytes) of heap memory\n",
      "Scaling row group sizes to 95,00% for 8 writers\n",
      "                                                                                \r"
     ]
    },
    {
     "name": "stdout",
     "output_type": "stream",
     "text": [
      "spark_df to csv\n",
      "pandas_df to csv\n"
     ]
    },
    {
     "name": "stderr",
     "output_type": "stream",
     "text": [
      "23/07/03 22:49:49 WARN MemoryManager: Total allocation exceeds 95,00% (1.020.054.720 bytes) of heap memory\n",
      "Scaling row group sizes to 95,00% for 8 writers\n",
      "23/07/03 22:49:49 WARN MemoryManager: Total allocation exceeds 95,00% (1.020.054.720 bytes) of heap memory\n",
      "Scaling row group sizes to 84,44% for 9 writers\n",
      "23/07/03 22:49:49 WARN MemoryManager: Total allocation exceeds 95,00% (1.020.054.720 bytes) of heap memory\n",
      "Scaling row group sizes to 76,00% for 10 writers\n",
      "23/07/03 22:49:49 WARN MemoryManager: Total allocation exceeds 95,00% (1.020.054.720 bytes) of heap memory\n",
      "Scaling row group sizes to 69,09% for 11 writers\n",
      "23/07/03 22:49:50 WARN MemoryManager: Total allocation exceeds 95,00% (1.020.054.720 bytes) of heap memory\n",
      "Scaling row group sizes to 63,33% for 12 writers\n",
      "23/07/03 22:49:50 WARN MemoryManager: Total allocation exceeds 95,00% (1.020.054.720 bytes) of heap memory\n",
      "Scaling row group sizes to 58,46% for 13 writers\n",
      "23/07/03 22:49:50 WARN MemoryManager: Total allocation exceeds 95,00% (1.020.054.720 bytes) of heap memory\n",
      "Scaling row group sizes to 54,29% for 14 writers\n",
      "23/07/03 22:49:50 WARN MemoryManager: Total allocation exceeds 95,00% (1.020.054.720 bytes) of heap memory\n",
      "Scaling row group sizes to 50,67% for 15 writers\n",
      "23/07/03 22:49:50 WARN MemoryManager: Total allocation exceeds 95,00% (1.020.054.720 bytes) of heap memory\n",
      "Scaling row group sizes to 47,50% for 16 writers\n",
      "23/07/03 22:49:51 WARN MemoryManager: Total allocation exceeds 95,00% (1.020.054.720 bytes) of heap memory\n",
      "Scaling row group sizes to 50,67% for 15 writers\n",
      "23/07/03 22:49:51 WARN MemoryManager: Total allocation exceeds 95,00% (1.020.054.720 bytes) of heap memory\n",
      "Scaling row group sizes to 54,29% for 14 writers\n",
      "23/07/03 22:49:51 WARN MemoryManager: Total allocation exceeds 95,00% (1.020.054.720 bytes) of heap memory\n",
      "Scaling row group sizes to 58,46% for 13 writers\n",
      "23/07/03 22:49:51 WARN MemoryManager: Total allocation exceeds 95,00% (1.020.054.720 bytes) of heap memory\n",
      "Scaling row group sizes to 63,33% for 12 writers\n",
      "23/07/03 22:49:51 WARN MemoryManager: Total allocation exceeds 95,00% (1.020.054.720 bytes) of heap memory\n",
      "Scaling row group sizes to 69,09% for 11 writers\n",
      "23/07/03 22:49:51 WARN MemoryManager: Total allocation exceeds 95,00% (1.020.054.720 bytes) of heap memory\n",
      "Scaling row group sizes to 76,00% for 10 writers\n",
      "23/07/03 22:49:51 WARN MemoryManager: Total allocation exceeds 95,00% (1.020.054.720 bytes) of heap memory\n",
      "Scaling row group sizes to 84,44% for 9 writers\n",
      "23/07/03 22:49:51 WARN MemoryManager: Total allocation exceeds 95,00% (1.020.054.720 bytes) of heap memory\n",
      "Scaling row group sizes to 95,00% for 8 writers\n",
      "                                                                                \r"
     ]
    },
    {
     "name": "stdout",
     "output_type": "stream",
     "text": [
      "spark_df to csv\n",
      "pandas_df to csv\n"
     ]
    },
    {
     "name": "stderr",
     "output_type": "stream",
     "text": [
      "23/07/03 22:50:10 WARN MemoryManager: Total allocation exceeds 95,00% (1.020.054.720 bytes) of heap memory\n",
      "Scaling row group sizes to 95,00% for 8 writers\n",
      "23/07/03 22:50:10 WARN MemoryManager: Total allocation exceeds 95,00% (1.020.054.720 bytes) of heap memory\n",
      "Scaling row group sizes to 84,44% for 9 writers\n",
      "23/07/03 22:50:10 WARN MemoryManager: Total allocation exceeds 95,00% (1.020.054.720 bytes) of heap memory\n",
      "Scaling row group sizes to 76,00% for 10 writers\n",
      "23/07/03 22:50:10 WARN MemoryManager: Total allocation exceeds 95,00% (1.020.054.720 bytes) of heap memory\n",
      "Scaling row group sizes to 69,09% for 11 writers\n",
      "23/07/03 22:50:10 WARN MemoryManager: Total allocation exceeds 95,00% (1.020.054.720 bytes) of heap memory\n",
      "Scaling row group sizes to 63,33% for 12 writers\n",
      "23/07/03 22:50:10 WARN MemoryManager: Total allocation exceeds 95,00% (1.020.054.720 bytes) of heap memory\n",
      "Scaling row group sizes to 58,46% for 13 writers\n",
      "23/07/03 22:50:10 WARN MemoryManager: Total allocation exceeds 95,00% (1.020.054.720 bytes) of heap memory\n",
      "Scaling row group sizes to 54,29% for 14 writers\n",
      "23/07/03 22:50:10 WARN MemoryManager: Total allocation exceeds 95,00% (1.020.054.720 bytes) of heap memory\n",
      "Scaling row group sizes to 50,67% for 15 writers\n",
      "23/07/03 22:50:10 WARN MemoryManager: Total allocation exceeds 95,00% (1.020.054.720 bytes) of heap memory\n",
      "Scaling row group sizes to 47,50% for 16 writers\n",
      "23/07/03 22:50:12 WARN MemoryManager: Total allocation exceeds 95,00% (1.020.054.720 bytes) of heap memory\n",
      "Scaling row group sizes to 50,67% for 15 writers\n",
      "23/07/03 22:50:12 WARN MemoryManager: Total allocation exceeds 95,00% (1.020.054.720 bytes) of heap memory\n",
      "Scaling row group sizes to 54,29% for 14 writers\n",
      "23/07/03 22:50:12 WARN MemoryManager: Total allocation exceeds 95,00% (1.020.054.720 bytes) of heap memory\n",
      "Scaling row group sizes to 58,46% for 13 writers\n",
      "23/07/03 22:50:12 WARN MemoryManager: Total allocation exceeds 95,00% (1.020.054.720 bytes) of heap memory\n",
      "Scaling row group sizes to 63,33% for 12 writers\n",
      "23/07/03 22:50:12 WARN MemoryManager: Total allocation exceeds 95,00% (1.020.054.720 bytes) of heap memory\n",
      "Scaling row group sizes to 69,09% for 11 writers\n",
      "23/07/03 22:50:12 WARN MemoryManager: Total allocation exceeds 95,00% (1.020.054.720 bytes) of heap memory\n",
      "Scaling row group sizes to 76,00% for 10 writers\n",
      "23/07/03 22:50:12 WARN MemoryManager: Total allocation exceeds 95,00% (1.020.054.720 bytes) of heap memory\n",
      "Scaling row group sizes to 84,44% for 9 writers\n",
      "23/07/03 22:50:12 WARN MemoryManager: Total allocation exceeds 95,00% (1.020.054.720 bytes) of heap memory\n",
      "Scaling row group sizes to 95,00% for 8 writers\n",
      "                                                                                \r"
     ]
    },
    {
     "name": "stdout",
     "output_type": "stream",
     "text": [
      "spark_df to csv\n",
      "pandas_df to csv\n"
     ]
    },
    {
     "name": "stderr",
     "output_type": "stream",
     "text": [
      "23/07/03 22:50:31 WARN MemoryManager: Total allocation exceeds 95,00% (1.020.054.720 bytes) of heap memory\n",
      "Scaling row group sizes to 95,00% for 8 writers\n",
      "23/07/03 22:50:31 WARN MemoryManager: Total allocation exceeds 95,00% (1.020.054.720 bytes) of heap memory\n",
      "Scaling row group sizes to 84,44% for 9 writers\n",
      "23/07/03 22:50:31 WARN MemoryManager: Total allocation exceeds 95,00% (1.020.054.720 bytes) of heap memory\n",
      "Scaling row group sizes to 76,00% for 10 writers\n",
      "23/07/03 22:50:31 WARN MemoryManager: Total allocation exceeds 95,00% (1.020.054.720 bytes) of heap memory\n",
      "Scaling row group sizes to 69,09% for 11 writers\n",
      "23/07/03 22:50:31 WARN MemoryManager: Total allocation exceeds 95,00% (1.020.054.720 bytes) of heap memory\n",
      "Scaling row group sizes to 63,33% for 12 writers\n",
      "23/07/03 22:50:31 WARN MemoryManager: Total allocation exceeds 95,00% (1.020.054.720 bytes) of heap memory\n",
      "Scaling row group sizes to 58,46% for 13 writers\n",
      "23/07/03 22:50:31 WARN MemoryManager: Total allocation exceeds 95,00% (1.020.054.720 bytes) of heap memory\n",
      "Scaling row group sizes to 54,29% for 14 writers\n",
      "23/07/03 22:50:31 WARN MemoryManager: Total allocation exceeds 95,00% (1.020.054.720 bytes) of heap memory\n",
      "Scaling row group sizes to 50,67% for 15 writers\n",
      "23/07/03 22:50:31 WARN MemoryManager: Total allocation exceeds 95,00% (1.020.054.720 bytes) of heap memory\n",
      "Scaling row group sizes to 47,50% for 16 writers\n",
      "23/07/03 22:50:33 WARN MemoryManager: Total allocation exceeds 95,00% (1.020.054.720 bytes) of heap memory\n",
      "Scaling row group sizes to 50,67% for 15 writers\n",
      "23/07/03 22:50:33 WARN MemoryManager: Total allocation exceeds 95,00% (1.020.054.720 bytes) of heap memory\n",
      "Scaling row group sizes to 54,29% for 14 writers\n",
      "23/07/03 22:50:33 WARN MemoryManager: Total allocation exceeds 95,00% (1.020.054.720 bytes) of heap memory\n",
      "Scaling row group sizes to 58,46% for 13 writers\n",
      "23/07/03 22:50:33 WARN MemoryManager: Total allocation exceeds 95,00% (1.020.054.720 bytes) of heap memory\n",
      "Scaling row group sizes to 63,33% for 12 writers\n",
      "23/07/03 22:50:33 WARN MemoryManager: Total allocation exceeds 95,00% (1.020.054.720 bytes) of heap memory\n",
      "Scaling row group sizes to 69,09% for 11 writers\n",
      "23/07/03 22:50:33 WARN MemoryManager: Total allocation exceeds 95,00% (1.020.054.720 bytes) of heap memory\n",
      "Scaling row group sizes to 76,00% for 10 writers\n",
      "23/07/03 22:50:33 WARN MemoryManager: Total allocation exceeds 95,00% (1.020.054.720 bytes) of heap memory\n",
      "Scaling row group sizes to 84,44% for 9 writers\n",
      "23/07/03 22:50:33 WARN MemoryManager: Total allocation exceeds 95,00% (1.020.054.720 bytes) of heap memory\n",
      "Scaling row group sizes to 95,00% for 8 writers\n",
      "                                                                                \r"
     ]
    },
    {
     "name": "stdout",
     "output_type": "stream",
     "text": [
      "spark_df to csv\n",
      "pandas_df to csv\n"
     ]
    },
    {
     "name": "stderr",
     "output_type": "stream",
     "text": [
      "23/07/03 22:50:53 WARN MemoryManager: Total allocation exceeds 95,00% (1.020.054.720 bytes) of heap memory\n",
      "Scaling row group sizes to 95,00% for 8 writers\n",
      "23/07/03 22:50:53 WARN MemoryManager: Total allocation exceeds 95,00% (1.020.054.720 bytes) of heap memory\n",
      "Scaling row group sizes to 84,44% for 9 writers\n",
      "23/07/03 22:50:53 WARN MemoryManager: Total allocation exceeds 95,00% (1.020.054.720 bytes) of heap memory\n",
      "Scaling row group sizes to 76,00% for 10 writers\n",
      "23/07/03 22:50:53 WARN MemoryManager: Total allocation exceeds 95,00% (1.020.054.720 bytes) of heap memory\n",
      "Scaling row group sizes to 69,09% for 11 writers\n",
      "23/07/03 22:50:53 WARN MemoryManager: Total allocation exceeds 95,00% (1.020.054.720 bytes) of heap memory\n",
      "Scaling row group sizes to 63,33% for 12 writers\n",
      "23/07/03 22:50:53 WARN MemoryManager: Total allocation exceeds 95,00% (1.020.054.720 bytes) of heap memory\n",
      "Scaling row group sizes to 58,46% for 13 writers\n",
      "23/07/03 22:50:53 WARN MemoryManager: Total allocation exceeds 95,00% (1.020.054.720 bytes) of heap memory\n",
      "Scaling row group sizes to 54,29% for 14 writers\n",
      "23/07/03 22:50:53 WARN MemoryManager: Total allocation exceeds 95,00% (1.020.054.720 bytes) of heap memory\n",
      "Scaling row group sizes to 50,67% for 15 writers\n",
      "23/07/03 22:50:53 WARN MemoryManager: Total allocation exceeds 95,00% (1.020.054.720 bytes) of heap memory\n",
      "Scaling row group sizes to 47,50% for 16 writers\n",
      "23/07/03 22:50:54 WARN MemoryManager: Total allocation exceeds 95,00% (1.020.054.720 bytes) of heap memory\n",
      "Scaling row group sizes to 50,67% for 15 writers\n",
      "23/07/03 22:50:54 WARN MemoryManager: Total allocation exceeds 95,00% (1.020.054.720 bytes) of heap memory\n",
      "Scaling row group sizes to 54,29% for 14 writers\n",
      "23/07/03 22:50:54 WARN MemoryManager: Total allocation exceeds 95,00% (1.020.054.720 bytes) of heap memory\n",
      "Scaling row group sizes to 58,46% for 13 writers\n",
      "23/07/03 22:50:54 WARN MemoryManager: Total allocation exceeds 95,00% (1.020.054.720 bytes) of heap memory\n",
      "Scaling row group sizes to 63,33% for 12 writers\n",
      "23/07/03 22:50:54 WARN MemoryManager: Total allocation exceeds 95,00% (1.020.054.720 bytes) of heap memory\n",
      "Scaling row group sizes to 69,09% for 11 writers\n",
      "23/07/03 22:50:54 WARN MemoryManager: Total allocation exceeds 95,00% (1.020.054.720 bytes) of heap memory\n",
      "Scaling row group sizes to 76,00% for 10 writers\n",
      "23/07/03 22:50:54 WARN MemoryManager: Total allocation exceeds 95,00% (1.020.054.720 bytes) of heap memory\n",
      "Scaling row group sizes to 84,44% for 9 writers\n",
      "23/07/03 22:50:54 WARN MemoryManager: Total allocation exceeds 95,00% (1.020.054.720 bytes) of heap memory\n",
      "Scaling row group sizes to 95,00% for 8 writers\n",
      "                                                                                \r"
     ]
    },
    {
     "name": "stdout",
     "output_type": "stream",
     "text": [
      "spark_df to csv\n",
      "(950000, 20)\n",
      "pandas_df to csv\n"
     ]
    },
    {
     "name": "stderr",
     "output_type": "stream",
     "text": [
      "23/07/03 22:51:16 WARN MemoryManager: Total allocation exceeds 95,00% (1.020.054.720 bytes) of heap memory\n",
      "Scaling row group sizes to 95,00% for 8 writers\n",
      "23/07/03 22:51:16 WARN MemoryManager: Total allocation exceeds 95,00% (1.020.054.720 bytes) of heap memory\n",
      "Scaling row group sizes to 84,44% for 9 writers\n",
      "23/07/03 22:51:16 WARN MemoryManager: Total allocation exceeds 95,00% (1.020.054.720 bytes) of heap memory\n",
      "Scaling row group sizes to 76,00% for 10 writers\n",
      "23/07/03 22:51:16 WARN MemoryManager: Total allocation exceeds 95,00% (1.020.054.720 bytes) of heap memory\n",
      "Scaling row group sizes to 69,09% for 11 writers\n",
      "23/07/03 22:51:16 WARN MemoryManager: Total allocation exceeds 95,00% (1.020.054.720 bytes) of heap memory\n",
      "Scaling row group sizes to 63,33% for 12 writers\n",
      "23/07/03 22:51:16 WARN MemoryManager: Total allocation exceeds 95,00% (1.020.054.720 bytes) of heap memory\n",
      "Scaling row group sizes to 58,46% for 13 writers\n",
      "23/07/03 22:51:16 WARN MemoryManager: Total allocation exceeds 95,00% (1.020.054.720 bytes) of heap memory\n",
      "Scaling row group sizes to 54,29% for 14 writers\n",
      "23/07/03 22:51:16 WARN MemoryManager: Total allocation exceeds 95,00% (1.020.054.720 bytes) of heap memory\n",
      "Scaling row group sizes to 50,67% for 15 writers\n",
      "23/07/03 22:51:16 WARN MemoryManager: Total allocation exceeds 95,00% (1.020.054.720 bytes) of heap memory\n",
      "Scaling row group sizes to 47,50% for 16 writers\n",
      "23/07/03 22:51:17 WARN MemoryManager: Total allocation exceeds 95,00% (1.020.054.720 bytes) of heap memory\n",
      "Scaling row group sizes to 50,67% for 15 writers\n",
      "23/07/03 22:51:17 WARN MemoryManager: Total allocation exceeds 95,00% (1.020.054.720 bytes) of heap memory\n",
      "Scaling row group sizes to 54,29% for 14 writers\n",
      "23/07/03 22:51:17 WARN MemoryManager: Total allocation exceeds 95,00% (1.020.054.720 bytes) of heap memory\n",
      "Scaling row group sizes to 58,46% for 13 writers\n",
      "23/07/03 22:51:17 WARN MemoryManager: Total allocation exceeds 95,00% (1.020.054.720 bytes) of heap memory\n",
      "Scaling row group sizes to 63,33% for 12 writers\n",
      "23/07/03 22:51:17 WARN MemoryManager: Total allocation exceeds 95,00% (1.020.054.720 bytes) of heap memory\n",
      "Scaling row group sizes to 69,09% for 11 writers\n",
      "23/07/03 22:51:17 WARN MemoryManager: Total allocation exceeds 95,00% (1.020.054.720 bytes) of heap memory\n",
      "Scaling row group sizes to 76,00% for 10 writers\n",
      "23/07/03 22:51:17 WARN MemoryManager: Total allocation exceeds 95,00% (1.020.054.720 bytes) of heap memory\n",
      "Scaling row group sizes to 84,44% for 9 writers\n",
      "23/07/03 22:51:17 WARN MemoryManager: Total allocation exceeds 95,00% (1.020.054.720 bytes) of heap memory\n",
      "Scaling row group sizes to 95,00% for 8 writers\n",
      "                                                                                \r"
     ]
    },
    {
     "name": "stdout",
     "output_type": "stream",
     "text": [
      "spark_df to csv\n",
      "pandas_df to csv\n"
     ]
    },
    {
     "name": "stderr",
     "output_type": "stream",
     "text": [
      "23/07/03 22:51:38 WARN MemoryManager: Total allocation exceeds 95,00% (1.020.054.720 bytes) of heap memory\n",
      "Scaling row group sizes to 95,00% for 8 writers\n",
      "23/07/03 22:51:38 WARN MemoryManager: Total allocation exceeds 95,00% (1.020.054.720 bytes) of heap memory\n",
      "Scaling row group sizes to 84,44% for 9 writers\n",
      "23/07/03 22:51:38 WARN MemoryManager: Total allocation exceeds 95,00% (1.020.054.720 bytes) of heap memory\n",
      "Scaling row group sizes to 76,00% for 10 writers\n",
      "23/07/03 22:51:38 WARN MemoryManager: Total allocation exceeds 95,00% (1.020.054.720 bytes) of heap memory\n",
      "Scaling row group sizes to 69,09% for 11 writers\n",
      "23/07/03 22:51:38 WARN MemoryManager: Total allocation exceeds 95,00% (1.020.054.720 bytes) of heap memory\n",
      "Scaling row group sizes to 63,33% for 12 writers\n",
      "23/07/03 22:51:38 WARN MemoryManager: Total allocation exceeds 95,00% (1.020.054.720 bytes) of heap memory\n",
      "Scaling row group sizes to 58,46% for 13 writers\n",
      "23/07/03 22:51:38 WARN MemoryManager: Total allocation exceeds 95,00% (1.020.054.720 bytes) of heap memory\n",
      "Scaling row group sizes to 54,29% for 14 writers\n",
      "23/07/03 22:51:38 WARN MemoryManager: Total allocation exceeds 95,00% (1.020.054.720 bytes) of heap memory\n",
      "Scaling row group sizes to 50,67% for 15 writers\n",
      "23/07/03 22:51:38 WARN MemoryManager: Total allocation exceeds 95,00% (1.020.054.720 bytes) of heap memory\n",
      "Scaling row group sizes to 47,50% for 16 writers\n",
      "23/07/03 22:51:40 WARN MemoryManager: Total allocation exceeds 95,00% (1.020.054.720 bytes) of heap memory\n",
      "Scaling row group sizes to 50,67% for 15 writers\n",
      "23/07/03 22:51:40 WARN MemoryManager: Total allocation exceeds 95,00% (1.020.054.720 bytes) of heap memory\n",
      "Scaling row group sizes to 54,29% for 14 writers\n",
      "23/07/03 22:51:40 WARN MemoryManager: Total allocation exceeds 95,00% (1.020.054.720 bytes) of heap memory\n",
      "Scaling row group sizes to 58,46% for 13 writers\n",
      "23/07/03 22:51:40 WARN MemoryManager: Total allocation exceeds 95,00% (1.020.054.720 bytes) of heap memory\n",
      "Scaling row group sizes to 63,33% for 12 writers\n",
      "23/07/03 22:51:40 WARN MemoryManager: Total allocation exceeds 95,00% (1.020.054.720 bytes) of heap memory\n",
      "Scaling row group sizes to 69,09% for 11 writers\n",
      "23/07/03 22:51:40 WARN MemoryManager: Total allocation exceeds 95,00% (1.020.054.720 bytes) of heap memory\n",
      "Scaling row group sizes to 76,00% for 10 writers\n",
      "23/07/03 22:51:40 WARN MemoryManager: Total allocation exceeds 95,00% (1.020.054.720 bytes) of heap memory\n",
      "Scaling row group sizes to 84,44% for 9 writers\n",
      "23/07/03 22:51:40 WARN MemoryManager: Total allocation exceeds 95,00% (1.020.054.720 bytes) of heap memory\n",
      "Scaling row group sizes to 95,00% for 8 writers\n",
      "                                                                                \r"
     ]
    },
    {
     "name": "stdout",
     "output_type": "stream",
     "text": [
      "spark_df to csv\n",
      "pandas_df to csv\n"
     ]
    },
    {
     "name": "stderr",
     "output_type": "stream",
     "text": [
      "23/07/03 22:52:01 WARN MemoryManager: Total allocation exceeds 95,00% (1.020.054.720 bytes) of heap memory\n",
      "Scaling row group sizes to 95,00% for 8 writers\n",
      "23/07/03 22:52:01 WARN MemoryManager: Total allocation exceeds 95,00% (1.020.054.720 bytes) of heap memory\n",
      "Scaling row group sizes to 84,44% for 9 writers\n",
      "23/07/03 22:52:01 WARN MemoryManager: Total allocation exceeds 95,00% (1.020.054.720 bytes) of heap memory\n",
      "Scaling row group sizes to 76,00% for 10 writers\n",
      "23/07/03 22:52:01 WARN MemoryManager: Total allocation exceeds 95,00% (1.020.054.720 bytes) of heap memory\n",
      "Scaling row group sizes to 69,09% for 11 writers\n",
      "23/07/03 22:52:01 WARN MemoryManager: Total allocation exceeds 95,00% (1.020.054.720 bytes) of heap memory\n",
      "Scaling row group sizes to 63,33% for 12 writers\n",
      "23/07/03 22:52:01 WARN MemoryManager: Total allocation exceeds 95,00% (1.020.054.720 bytes) of heap memory\n",
      "Scaling row group sizes to 58,46% for 13 writers\n",
      "23/07/03 22:52:01 WARN MemoryManager: Total allocation exceeds 95,00% (1.020.054.720 bytes) of heap memory\n",
      "Scaling row group sizes to 54,29% for 14 writers\n",
      "23/07/03 22:52:01 WARN MemoryManager: Total allocation exceeds 95,00% (1.020.054.720 bytes) of heap memory\n",
      "Scaling row group sizes to 50,67% for 15 writers\n",
      "23/07/03 22:52:01 WARN MemoryManager: Total allocation exceeds 95,00% (1.020.054.720 bytes) of heap memory\n",
      "Scaling row group sizes to 47,50% for 16 writers\n",
      "23/07/03 22:52:03 WARN MemoryManager: Total allocation exceeds 95,00% (1.020.054.720 bytes) of heap memory\n",
      "Scaling row group sizes to 50,67% for 15 writers\n",
      "23/07/03 22:52:03 WARN MemoryManager: Total allocation exceeds 95,00% (1.020.054.720 bytes) of heap memory\n",
      "Scaling row group sizes to 54,29% for 14 writers\n",
      "23/07/03 22:52:03 WARN MemoryManager: Total allocation exceeds 95,00% (1.020.054.720 bytes) of heap memory\n",
      "Scaling row group sizes to 58,46% for 13 writers\n",
      "23/07/03 22:52:03 WARN MemoryManager: Total allocation exceeds 95,00% (1.020.054.720 bytes) of heap memory\n",
      "Scaling row group sizes to 63,33% for 12 writers\n",
      "23/07/03 22:52:03 WARN MemoryManager: Total allocation exceeds 95,00% (1.020.054.720 bytes) of heap memory\n",
      "Scaling row group sizes to 69,09% for 11 writers\n",
      "23/07/03 22:52:03 WARN MemoryManager: Total allocation exceeds 95,00% (1.020.054.720 bytes) of heap memory\n",
      "Scaling row group sizes to 76,00% for 10 writers\n",
      "23/07/03 22:52:03 WARN MemoryManager: Total allocation exceeds 95,00% (1.020.054.720 bytes) of heap memory\n",
      "Scaling row group sizes to 84,44% for 9 writers\n",
      "23/07/03 22:52:03 WARN MemoryManager: Total allocation exceeds 95,00% (1.020.054.720 bytes) of heap memory\n",
      "Scaling row group sizes to 95,00% for 8 writers\n",
      "                                                                                \r"
     ]
    },
    {
     "name": "stdout",
     "output_type": "stream",
     "text": [
      "spark_df to csv\n",
      "pandas_df to csv\n"
     ]
    },
    {
     "name": "stderr",
     "output_type": "stream",
     "text": [
      "23/07/03 22:52:24 WARN MemoryManager: Total allocation exceeds 95,00% (1.020.054.720 bytes) of heap memory\n",
      "Scaling row group sizes to 95,00% for 8 writers\n",
      "23/07/03 22:52:24 WARN MemoryManager: Total allocation exceeds 95,00% (1.020.054.720 bytes) of heap memory\n",
      "Scaling row group sizes to 84,44% for 9 writers\n",
      "23/07/03 22:52:24 WARN MemoryManager: Total allocation exceeds 95,00% (1.020.054.720 bytes) of heap memory\n",
      "Scaling row group sizes to 76,00% for 10 writers\n",
      "23/07/03 22:52:24 WARN MemoryManager: Total allocation exceeds 95,00% (1.020.054.720 bytes) of heap memory\n",
      "Scaling row group sizes to 69,09% for 11 writers\n",
      "23/07/03 22:52:24 WARN MemoryManager: Total allocation exceeds 95,00% (1.020.054.720 bytes) of heap memory\n",
      "Scaling row group sizes to 63,33% for 12 writers\n",
      "23/07/03 22:52:24 WARN MemoryManager: Total allocation exceeds 95,00% (1.020.054.720 bytes) of heap memory\n",
      "Scaling row group sizes to 58,46% for 13 writers\n",
      "23/07/03 22:52:24 WARN MemoryManager: Total allocation exceeds 95,00% (1.020.054.720 bytes) of heap memory\n",
      "Scaling row group sizes to 54,29% for 14 writers\n",
      "23/07/03 22:52:24 WARN MemoryManager: Total allocation exceeds 95,00% (1.020.054.720 bytes) of heap memory\n",
      "Scaling row group sizes to 50,67% for 15 writers\n",
      "23/07/03 22:52:24 WARN MemoryManager: Total allocation exceeds 95,00% (1.020.054.720 bytes) of heap memory\n",
      "Scaling row group sizes to 47,50% for 16 writers\n",
      "23/07/03 22:52:25 WARN MemoryManager: Total allocation exceeds 95,00% (1.020.054.720 bytes) of heap memory\n",
      "Scaling row group sizes to 50,67% for 15 writers\n",
      "23/07/03 22:52:25 WARN MemoryManager: Total allocation exceeds 95,00% (1.020.054.720 bytes) of heap memory\n",
      "Scaling row group sizes to 54,29% for 14 writers\n",
      "23/07/03 22:52:25 WARN MemoryManager: Total allocation exceeds 95,00% (1.020.054.720 bytes) of heap memory\n",
      "Scaling row group sizes to 58,46% for 13 writers\n",
      "23/07/03 22:52:25 WARN MemoryManager: Total allocation exceeds 95,00% (1.020.054.720 bytes) of heap memory\n",
      "Scaling row group sizes to 63,33% for 12 writers\n",
      "23/07/03 22:52:25 WARN MemoryManager: Total allocation exceeds 95,00% (1.020.054.720 bytes) of heap memory\n",
      "Scaling row group sizes to 69,09% for 11 writers\n",
      "23/07/03 22:52:25 WARN MemoryManager: Total allocation exceeds 95,00% (1.020.054.720 bytes) of heap memory\n",
      "Scaling row group sizes to 76,00% for 10 writers\n",
      "23/07/03 22:52:25 WARN MemoryManager: Total allocation exceeds 95,00% (1.020.054.720 bytes) of heap memory\n",
      "Scaling row group sizes to 84,44% for 9 writers\n",
      "23/07/03 22:52:26 WARN MemoryManager: Total allocation exceeds 95,00% (1.020.054.720 bytes) of heap memory\n",
      "Scaling row group sizes to 95,00% for 8 writers\n",
      "                                                                                \r"
     ]
    },
    {
     "name": "stdout",
     "output_type": "stream",
     "text": [
      "spark_df to csv\n",
      "pandas_df to csv\n"
     ]
    },
    {
     "name": "stderr",
     "output_type": "stream",
     "text": [
      "23/07/03 22:52:46 WARN MemoryManager: Total allocation exceeds 95,00% (1.020.054.720 bytes) of heap memory\n",
      "Scaling row group sizes to 95,00% for 8 writers\n",
      "23/07/03 22:52:46 WARN MemoryManager: Total allocation exceeds 95,00% (1.020.054.720 bytes) of heap memory\n",
      "Scaling row group sizes to 84,44% for 9 writers\n",
      "23/07/03 22:52:46 WARN MemoryManager: Total allocation exceeds 95,00% (1.020.054.720 bytes) of heap memory\n",
      "Scaling row group sizes to 76,00% for 10 writers\n",
      "23/07/03 22:52:46 WARN MemoryManager: Total allocation exceeds 95,00% (1.020.054.720 bytes) of heap memory\n",
      "Scaling row group sizes to 69,09% for 11 writers\n",
      "23/07/03 22:52:46 WARN MemoryManager: Total allocation exceeds 95,00% (1.020.054.720 bytes) of heap memory\n",
      "Scaling row group sizes to 63,33% for 12 writers\n",
      "23/07/03 22:52:46 WARN MemoryManager: Total allocation exceeds 95,00% (1.020.054.720 bytes) of heap memory\n",
      "Scaling row group sizes to 58,46% for 13 writers\n",
      "23/07/03 22:52:46 WARN MemoryManager: Total allocation exceeds 95,00% (1.020.054.720 bytes) of heap memory\n",
      "Scaling row group sizes to 54,29% for 14 writers\n",
      "23/07/03 22:52:46 WARN MemoryManager: Total allocation exceeds 95,00% (1.020.054.720 bytes) of heap memory\n",
      "Scaling row group sizes to 50,67% for 15 writers\n",
      "23/07/03 22:52:46 WARN MemoryManager: Total allocation exceeds 95,00% (1.020.054.720 bytes) of heap memory\n",
      "Scaling row group sizes to 47,50% for 16 writers\n",
      "23/07/03 22:52:48 WARN MemoryManager: Total allocation exceeds 95,00% (1.020.054.720 bytes) of heap memory\n",
      "Scaling row group sizes to 50,67% for 15 writers\n",
      "23/07/03 22:52:48 WARN MemoryManager: Total allocation exceeds 95,00% (1.020.054.720 bytes) of heap memory\n",
      "Scaling row group sizes to 54,29% for 14 writers\n",
      "23/07/03 22:52:48 WARN MemoryManager: Total allocation exceeds 95,00% (1.020.054.720 bytes) of heap memory\n",
      "Scaling row group sizes to 58,46% for 13 writers\n",
      "23/07/03 22:52:48 WARN MemoryManager: Total allocation exceeds 95,00% (1.020.054.720 bytes) of heap memory\n",
      "Scaling row group sizes to 63,33% for 12 writers\n",
      "23/07/03 22:52:48 WARN MemoryManager: Total allocation exceeds 95,00% (1.020.054.720 bytes) of heap memory\n",
      "Scaling row group sizes to 69,09% for 11 writers\n",
      "23/07/03 22:52:48 WARN MemoryManager: Total allocation exceeds 95,00% (1.020.054.720 bytes) of heap memory\n",
      "Scaling row group sizes to 76,00% for 10 writers\n",
      "23/07/03 22:52:48 WARN MemoryManager: Total allocation exceeds 95,00% (1.020.054.720 bytes) of heap memory\n",
      "Scaling row group sizes to 84,44% for 9 writers\n",
      "23/07/03 22:52:48 WARN MemoryManager: Total allocation exceeds 95,00% (1.020.054.720 bytes) of heap memory\n",
      "Scaling row group sizes to 95,00% for 8 writers\n",
      "                                                                                \r"
     ]
    },
    {
     "name": "stdout",
     "output_type": "stream",
     "text": [
      "spark_df to csv\n",
      "(1000000, 20)\n",
      "pandas_df to csv\n"
     ]
    },
    {
     "name": "stderr",
     "output_type": "stream",
     "text": [
      "23/07/03 22:53:09 WARN MemoryManager: Total allocation exceeds 95,00% (1.020.054.720 bytes) of heap memory\n",
      "Scaling row group sizes to 95,00% for 8 writers\n",
      "23/07/03 22:53:09 WARN MemoryManager: Total allocation exceeds 95,00% (1.020.054.720 bytes) of heap memory\n",
      "Scaling row group sizes to 84,44% for 9 writers\n",
      "23/07/03 22:53:09 WARN MemoryManager: Total allocation exceeds 95,00% (1.020.054.720 bytes) of heap memory\n",
      "Scaling row group sizes to 76,00% for 10 writers\n",
      "23/07/03 22:53:09 WARN MemoryManager: Total allocation exceeds 95,00% (1.020.054.720 bytes) of heap memory\n",
      "Scaling row group sizes to 69,09% for 11 writers\n",
      "23/07/03 22:53:09 WARN MemoryManager: Total allocation exceeds 95,00% (1.020.054.720 bytes) of heap memory\n",
      "Scaling row group sizes to 63,33% for 12 writers\n",
      "23/07/03 22:53:09 WARN MemoryManager: Total allocation exceeds 95,00% (1.020.054.720 bytes) of heap memory\n",
      "Scaling row group sizes to 58,46% for 13 writers\n",
      "23/07/03 22:53:09 WARN MemoryManager: Total allocation exceeds 95,00% (1.020.054.720 bytes) of heap memory\n",
      "Scaling row group sizes to 54,29% for 14 writers\n",
      "23/07/03 22:53:09 WARN MemoryManager: Total allocation exceeds 95,00% (1.020.054.720 bytes) of heap memory\n",
      "Scaling row group sizes to 50,67% for 15 writers\n",
      "23/07/03 22:53:09 WARN MemoryManager: Total allocation exceeds 95,00% (1.020.054.720 bytes) of heap memory\n",
      "Scaling row group sizes to 47,50% for 16 writers\n",
      "23/07/03 22:53:10 WARN MemoryManager: Total allocation exceeds 95,00% (1.020.054.720 bytes) of heap memory\n",
      "Scaling row group sizes to 50,67% for 15 writers\n",
      "23/07/03 22:53:11 WARN MemoryManager: Total allocation exceeds 95,00% (1.020.054.720 bytes) of heap memory\n",
      "Scaling row group sizes to 54,29% for 14 writers\n",
      "23/07/03 22:53:11 WARN MemoryManager: Total allocation exceeds 95,00% (1.020.054.720 bytes) of heap memory\n",
      "Scaling row group sizes to 58,46% for 13 writers\n",
      "23/07/03 22:53:11 WARN MemoryManager: Total allocation exceeds 95,00% (1.020.054.720 bytes) of heap memory\n",
      "Scaling row group sizes to 63,33% for 12 writers\n",
      "23/07/03 22:53:11 WARN MemoryManager: Total allocation exceeds 95,00% (1.020.054.720 bytes) of heap memory\n",
      "Scaling row group sizes to 69,09% for 11 writers\n",
      "23/07/03 22:53:11 WARN MemoryManager: Total allocation exceeds 95,00% (1.020.054.720 bytes) of heap memory\n",
      "Scaling row group sizes to 76,00% for 10 writers\n",
      "23/07/03 22:53:11 WARN MemoryManager: Total allocation exceeds 95,00% (1.020.054.720 bytes) of heap memory\n",
      "Scaling row group sizes to 84,44% for 9 writers\n",
      "23/07/03 22:53:11 WARN MemoryManager: Total allocation exceeds 95,00% (1.020.054.720 bytes) of heap memory\n",
      "Scaling row group sizes to 95,00% for 8 writers\n",
      "                                                                                \r"
     ]
    },
    {
     "name": "stdout",
     "output_type": "stream",
     "text": [
      "spark_df to csv\n",
      "pandas_df to csv\n"
     ]
    },
    {
     "name": "stderr",
     "output_type": "stream",
     "text": [
      "23/07/03 22:53:32 WARN MemoryManager: Total allocation exceeds 95,00% (1.020.054.720 bytes) of heap memory\n",
      "Scaling row group sizes to 95,00% for 8 writers\n",
      "23/07/03 22:53:32 WARN MemoryManager: Total allocation exceeds 95,00% (1.020.054.720 bytes) of heap memory\n",
      "Scaling row group sizes to 84,44% for 9 writers\n",
      "23/07/03 22:53:32 WARN MemoryManager: Total allocation exceeds 95,00% (1.020.054.720 bytes) of heap memory\n",
      "Scaling row group sizes to 76,00% for 10 writers\n",
      "23/07/03 22:53:32 WARN MemoryManager: Total allocation exceeds 95,00% (1.020.054.720 bytes) of heap memory\n",
      "Scaling row group sizes to 69,09% for 11 writers\n",
      "23/07/03 22:53:32 WARN MemoryManager: Total allocation exceeds 95,00% (1.020.054.720 bytes) of heap memory\n",
      "Scaling row group sizes to 63,33% for 12 writers\n",
      "23/07/03 22:53:32 WARN MemoryManager: Total allocation exceeds 95,00% (1.020.054.720 bytes) of heap memory\n",
      "Scaling row group sizes to 58,46% for 13 writers\n",
      "23/07/03 22:53:32 WARN MemoryManager: Total allocation exceeds 95,00% (1.020.054.720 bytes) of heap memory\n",
      "Scaling row group sizes to 54,29% for 14 writers\n",
      "23/07/03 22:53:32 WARN MemoryManager: Total allocation exceeds 95,00% (1.020.054.720 bytes) of heap memory\n",
      "Scaling row group sizes to 50,67% for 15 writers\n",
      "23/07/03 22:53:32 WARN MemoryManager: Total allocation exceeds 95,00% (1.020.054.720 bytes) of heap memory\n",
      "Scaling row group sizes to 47,50% for 16 writers\n",
      "23/07/03 22:53:33 WARN MemoryManager: Total allocation exceeds 95,00% (1.020.054.720 bytes) of heap memory\n",
      "Scaling row group sizes to 50,67% for 15 writers\n",
      "23/07/03 22:53:34 WARN MemoryManager: Total allocation exceeds 95,00% (1.020.054.720 bytes) of heap memory\n",
      "Scaling row group sizes to 54,29% for 14 writers\n",
      "23/07/03 22:53:34 WARN MemoryManager: Total allocation exceeds 95,00% (1.020.054.720 bytes) of heap memory\n",
      "Scaling row group sizes to 58,46% for 13 writers\n",
      "23/07/03 22:53:34 WARN MemoryManager: Total allocation exceeds 95,00% (1.020.054.720 bytes) of heap memory\n",
      "Scaling row group sizes to 63,33% for 12 writers\n",
      "23/07/03 22:53:34 WARN MemoryManager: Total allocation exceeds 95,00% (1.020.054.720 bytes) of heap memory\n",
      "Scaling row group sizes to 69,09% for 11 writers\n",
      "23/07/03 22:53:34 WARN MemoryManager: Total allocation exceeds 95,00% (1.020.054.720 bytes) of heap memory\n",
      "Scaling row group sizes to 76,00% for 10 writers\n",
      "23/07/03 22:53:34 WARN MemoryManager: Total allocation exceeds 95,00% (1.020.054.720 bytes) of heap memory\n",
      "Scaling row group sizes to 84,44% for 9 writers\n",
      "23/07/03 22:53:34 WARN MemoryManager: Total allocation exceeds 95,00% (1.020.054.720 bytes) of heap memory\n",
      "Scaling row group sizes to 95,00% for 8 writers\n",
      "                                                                                \r"
     ]
    },
    {
     "name": "stdout",
     "output_type": "stream",
     "text": [
      "spark_df to csv\n",
      "pandas_df to csv\n"
     ]
    },
    {
     "name": "stderr",
     "output_type": "stream",
     "text": [
      "23/07/03 22:53:55 WARN MemoryManager: Total allocation exceeds 95,00% (1.020.054.720 bytes) of heap memory\n",
      "Scaling row group sizes to 95,00% for 8 writers\n",
      "23/07/03 22:53:55 WARN MemoryManager: Total allocation exceeds 95,00% (1.020.054.720 bytes) of heap memory\n",
      "Scaling row group sizes to 84,44% for 9 writers\n",
      "23/07/03 22:53:55 WARN MemoryManager: Total allocation exceeds 95,00% (1.020.054.720 bytes) of heap memory\n",
      "Scaling row group sizes to 76,00% for 10 writers\n",
      "23/07/03 22:53:55 WARN MemoryManager: Total allocation exceeds 95,00% (1.020.054.720 bytes) of heap memory\n",
      "Scaling row group sizes to 69,09% for 11 writers\n",
      "23/07/03 22:53:55 WARN MemoryManager: Total allocation exceeds 95,00% (1.020.054.720 bytes) of heap memory\n",
      "Scaling row group sizes to 63,33% for 12 writers\n",
      "23/07/03 22:53:55 WARN MemoryManager: Total allocation exceeds 95,00% (1.020.054.720 bytes) of heap memory\n",
      "Scaling row group sizes to 58,46% for 13 writers\n",
      "23/07/03 22:53:55 WARN MemoryManager: Total allocation exceeds 95,00% (1.020.054.720 bytes) of heap memory\n",
      "Scaling row group sizes to 54,29% for 14 writers\n",
      "23/07/03 22:53:55 WARN MemoryManager: Total allocation exceeds 95,00% (1.020.054.720 bytes) of heap memory\n",
      "Scaling row group sizes to 50,67% for 15 writers\n",
      "23/07/03 22:53:55 WARN MemoryManager: Total allocation exceeds 95,00% (1.020.054.720 bytes) of heap memory\n",
      "Scaling row group sizes to 47,50% for 16 writers\n",
      "23/07/03 22:53:56 WARN MemoryManager: Total allocation exceeds 95,00% (1.020.054.720 bytes) of heap memory\n",
      "Scaling row group sizes to 50,67% for 15 writers\n",
      "23/07/03 22:53:56 WARN MemoryManager: Total allocation exceeds 95,00% (1.020.054.720 bytes) of heap memory\n",
      "Scaling row group sizes to 54,29% for 14 writers\n",
      "23/07/03 22:53:56 WARN MemoryManager: Total allocation exceeds 95,00% (1.020.054.720 bytes) of heap memory\n",
      "Scaling row group sizes to 58,46% for 13 writers\n",
      "23/07/03 22:53:56 WARN MemoryManager: Total allocation exceeds 95,00% (1.020.054.720 bytes) of heap memory\n",
      "Scaling row group sizes to 63,33% for 12 writers\n",
      "23/07/03 22:53:56 WARN MemoryManager: Total allocation exceeds 95,00% (1.020.054.720 bytes) of heap memory\n",
      "Scaling row group sizes to 69,09% for 11 writers\n",
      "23/07/03 22:53:56 WARN MemoryManager: Total allocation exceeds 95,00% (1.020.054.720 bytes) of heap memory\n",
      "Scaling row group sizes to 76,00% for 10 writers\n",
      "23/07/03 22:53:57 WARN MemoryManager: Total allocation exceeds 95,00% (1.020.054.720 bytes) of heap memory\n",
      "Scaling row group sizes to 84,44% for 9 writers\n",
      "23/07/03 22:53:57 WARN MemoryManager: Total allocation exceeds 95,00% (1.020.054.720 bytes) of heap memory\n",
      "Scaling row group sizes to 95,00% for 8 writers\n",
      "                                                                                \r"
     ]
    },
    {
     "name": "stdout",
     "output_type": "stream",
     "text": [
      "spark_df to csv\n",
      "pandas_df to csv\n"
     ]
    },
    {
     "name": "stderr",
     "output_type": "stream",
     "text": [
      "23/07/03 22:54:17 WARN MemoryManager: Total allocation exceeds 95,00% (1.020.054.720 bytes) of heap memory\n",
      "Scaling row group sizes to 95,00% for 8 writers\n",
      "23/07/03 22:54:17 WARN MemoryManager: Total allocation exceeds 95,00% (1.020.054.720 bytes) of heap memory\n",
      "Scaling row group sizes to 84,44% for 9 writers\n",
      "23/07/03 22:54:17 WARN MemoryManager: Total allocation exceeds 95,00% (1.020.054.720 bytes) of heap memory\n",
      "Scaling row group sizes to 76,00% for 10 writers\n",
      "23/07/03 22:54:17 WARN MemoryManager: Total allocation exceeds 95,00% (1.020.054.720 bytes) of heap memory\n",
      "Scaling row group sizes to 69,09% for 11 writers\n",
      "23/07/03 22:54:17 WARN MemoryManager: Total allocation exceeds 95,00% (1.020.054.720 bytes) of heap memory\n",
      "Scaling row group sizes to 63,33% for 12 writers\n",
      "23/07/03 22:54:17 WARN MemoryManager: Total allocation exceeds 95,00% (1.020.054.720 bytes) of heap memory\n",
      "Scaling row group sizes to 58,46% for 13 writers\n",
      "23/07/03 22:54:17 WARN MemoryManager: Total allocation exceeds 95,00% (1.020.054.720 bytes) of heap memory\n",
      "Scaling row group sizes to 54,29% for 14 writers\n",
      "23/07/03 22:54:17 WARN MemoryManager: Total allocation exceeds 95,00% (1.020.054.720 bytes) of heap memory\n",
      "Scaling row group sizes to 50,67% for 15 writers\n",
      "23/07/03 22:54:17 WARN MemoryManager: Total allocation exceeds 95,00% (1.020.054.720 bytes) of heap memory\n",
      "Scaling row group sizes to 47,50% for 16 writers\n",
      "23/07/03 22:54:19 WARN MemoryManager: Total allocation exceeds 95,00% (1.020.054.720 bytes) of heap memory\n",
      "Scaling row group sizes to 50,67% for 15 writers\n",
      "23/07/03 22:54:19 WARN MemoryManager: Total allocation exceeds 95,00% (1.020.054.720 bytes) of heap memory\n",
      "Scaling row group sizes to 54,29% for 14 writers\n",
      "23/07/03 22:54:19 WARN MemoryManager: Total allocation exceeds 95,00% (1.020.054.720 bytes) of heap memory\n",
      "Scaling row group sizes to 58,46% for 13 writers\n",
      "23/07/03 22:54:19 WARN MemoryManager: Total allocation exceeds 95,00% (1.020.054.720 bytes) of heap memory\n",
      "Scaling row group sizes to 63,33% for 12 writers\n",
      "23/07/03 22:54:19 WARN MemoryManager: Total allocation exceeds 95,00% (1.020.054.720 bytes) of heap memory\n",
      "Scaling row group sizes to 69,09% for 11 writers\n",
      "23/07/03 22:54:19 WARN MemoryManager: Total allocation exceeds 95,00% (1.020.054.720 bytes) of heap memory\n",
      "Scaling row group sizes to 76,00% for 10 writers\n",
      "23/07/03 22:54:19 WARN MemoryManager: Total allocation exceeds 95,00% (1.020.054.720 bytes) of heap memory\n",
      "Scaling row group sizes to 84,44% for 9 writers\n",
      "23/07/03 22:54:19 WARN MemoryManager: Total allocation exceeds 95,00% (1.020.054.720 bytes) of heap memory\n",
      "Scaling row group sizes to 95,00% for 8 writers\n",
      "                                                                                \r"
     ]
    },
    {
     "name": "stdout",
     "output_type": "stream",
     "text": [
      "spark_df to csv\n",
      "pandas_df to csv\n"
     ]
    },
    {
     "name": "stderr",
     "output_type": "stream",
     "text": [
      "23/07/03 22:54:40 WARN MemoryManager: Total allocation exceeds 95,00% (1.020.054.720 bytes) of heap memory\n",
      "Scaling row group sizes to 95,00% for 8 writers\n",
      "23/07/03 22:54:40 WARN MemoryManager: Total allocation exceeds 95,00% (1.020.054.720 bytes) of heap memory\n",
      "Scaling row group sizes to 84,44% for 9 writers\n",
      "23/07/03 22:54:40 WARN MemoryManager: Total allocation exceeds 95,00% (1.020.054.720 bytes) of heap memory\n",
      "Scaling row group sizes to 76,00% for 10 writers\n",
      "23/07/03 22:54:40 WARN MemoryManager: Total allocation exceeds 95,00% (1.020.054.720 bytes) of heap memory\n",
      "Scaling row group sizes to 69,09% for 11 writers\n",
      "23/07/03 22:54:40 WARN MemoryManager: Total allocation exceeds 95,00% (1.020.054.720 bytes) of heap memory\n",
      "Scaling row group sizes to 63,33% for 12 writers\n",
      "23/07/03 22:54:40 WARN MemoryManager: Total allocation exceeds 95,00% (1.020.054.720 bytes) of heap memory\n",
      "Scaling row group sizes to 58,46% for 13 writers\n",
      "23/07/03 22:54:40 WARN MemoryManager: Total allocation exceeds 95,00% (1.020.054.720 bytes) of heap memory\n",
      "Scaling row group sizes to 54,29% for 14 writers\n",
      "23/07/03 22:54:40 WARN MemoryManager: Total allocation exceeds 95,00% (1.020.054.720 bytes) of heap memory\n",
      "Scaling row group sizes to 50,67% for 15 writers\n",
      "23/07/03 22:54:40 WARN MemoryManager: Total allocation exceeds 95,00% (1.020.054.720 bytes) of heap memory\n",
      "Scaling row group sizes to 47,50% for 16 writers\n",
      "23/07/03 22:54:42 WARN MemoryManager: Total allocation exceeds 95,00% (1.020.054.720 bytes) of heap memory\n",
      "Scaling row group sizes to 50,67% for 15 writers\n",
      "[Stage 59:===>                                                    (1 + 15) / 16]\r"
     ]
    },
    {
     "name": "stdout",
     "output_type": "stream",
     "text": [
      "spark_df to csv\n"
     ]
    },
    {
     "name": "stderr",
     "output_type": "stream",
     "text": [
      "23/07/03 22:54:42 WARN MemoryManager: Total allocation exceeds 95,00% (1.020.054.720 bytes) of heap memory\n",
      "Scaling row group sizes to 54,29% for 14 writers\n",
      "23/07/03 22:54:42 WARN MemoryManager: Total allocation exceeds 95,00% (1.020.054.720 bytes) of heap memory\n",
      "Scaling row group sizes to 58,46% for 13 writers\n",
      "23/07/03 22:54:42 WARN MemoryManager: Total allocation exceeds 95,00% (1.020.054.720 bytes) of heap memory\n",
      "Scaling row group sizes to 63,33% for 12 writers\n",
      "23/07/03 22:54:42 WARN MemoryManager: Total allocation exceeds 95,00% (1.020.054.720 bytes) of heap memory\n",
      "Scaling row group sizes to 69,09% for 11 writers\n",
      "23/07/03 22:54:42 WARN MemoryManager: Total allocation exceeds 95,00% (1.020.054.720 bytes) of heap memory\n",
      "Scaling row group sizes to 76,00% for 10 writers\n",
      "23/07/03 22:54:42 WARN MemoryManager: Total allocation exceeds 95,00% (1.020.054.720 bytes) of heap memory\n",
      "Scaling row group sizes to 84,44% for 9 writers\n",
      "23/07/03 22:54:42 WARN MemoryManager: Total allocation exceeds 95,00% (1.020.054.720 bytes) of heap memory\n",
      "Scaling row group sizes to 95,00% for 8 writers\n",
      "                                                                                \r"
     ]
    }
   ],
   "source": [
    "# load time statistics\n",
    "time_statistics_large = pd.read_csv(\"data/time_statistics_large.csv\")\n",
    "\n",
    "# I iterated in steps - because of memory allocation issues\n",
    "for i in range(16, 20):\n",
    "    df_pd = large_step_pd[i]\n",
    "    df_spark = large_step_spark[i]\n",
    "    print(df_pd.shape)\n",
    "    average_pandas_time, average_pyspark_time, _ , _ = utils.iterations(test.write_data, 5, spark, df_pd, df_spark)\n",
    "    time_statistics_large.loc[(time_statistics_large['row_count'] == df_pd.shape[0]) & (time_statistics_large[\"column_count\"] == df_pd.shape[1]), [\"write_pd\", \"write_spark\"]] = [average_pandas_time, average_pyspark_time]\n",
    "\n",
    "# save time statistics\n",
    "time_statistics_large.to_csv(\"data/time_statistics_large.csv\", index=False)"
   ]
  },
  {
   "cell_type": "markdown",
   "metadata": {},
   "source": [
    "#### Test 2: Load Dataframe from CSV"
   ]
  },
  {
   "cell_type": "code",
   "execution_count": 6,
   "metadata": {},
   "outputs": [
    {
     "name": "stdout",
     "output_type": "stream",
     "text": [
      "(10000, 20)\n",
      "pandas_df to csv\n",
      "spark_df to csv\n",
      "pandas_df to csv\n",
      "spark_df to csv\n",
      "pandas_df to csv\n",
      "spark_df to csv\n",
      "pandas_df to csv\n",
      "spark_df to csv\n",
      "pandas_df to csv\n",
      "spark_df to csv\n",
      "(20000, 20)\n",
      "pandas_df to csv\n",
      "spark_df to csv\n",
      "pandas_df to csv\n",
      "spark_df to csv\n",
      "pandas_df to csv\n",
      "spark_df to csv\n",
      "pandas_df to csv\n",
      "spark_df to csv\n",
      "pandas_df to csv\n",
      "spark_df to csv\n",
      "(30000, 20)\n",
      "pandas_df to csv\n",
      "spark_df to csv\n",
      "pandas_df to csv\n",
      "spark_df to csv\n",
      "pandas_df to csv\n",
      "spark_df to csv\n",
      "pandas_df to csv\n",
      "spark_df to csv\n",
      "pandas_df to csv\n",
      "spark_df to csv\n",
      "(40000, 20)\n",
      "pandas_df to csv\n",
      "spark_df to csv\n",
      "pandas_df to csv\n",
      "spark_df to csv\n",
      "pandas_df to csv\n",
      "spark_df to csv\n",
      "pandas_df to csv\n",
      "spark_df to csv\n",
      "pandas_df to csv\n",
      "spark_df to csv\n",
      "(50000, 20)\n",
      "pandas_df to csv\n",
      "spark_df to csv\n",
      "pandas_df to csv\n",
      "spark_df to csv\n",
      "pandas_df to csv\n",
      "spark_df to csv\n",
      "pandas_df to csv\n",
      "spark_df to csv\n",
      "pandas_df to csv\n",
      "spark_df to csv\n",
      "(60000, 20)\n",
      "pandas_df to csv\n",
      "spark_df to csv\n",
      "pandas_df to csv\n",
      "spark_df to csv\n",
      "pandas_df to csv\n",
      "spark_df to csv\n",
      "pandas_df to csv\n",
      "spark_df to csv\n",
      "pandas_df to csv\n",
      "spark_df to csv\n",
      "(70000, 20)\n",
      "pandas_df to csv\n",
      "spark_df to csv\n",
      "pandas_df to csv\n",
      "spark_df to csv\n",
      "pandas_df to csv\n",
      "spark_df to csv\n",
      "pandas_df to csv\n",
      "spark_df to csv\n",
      "pandas_df to csv\n",
      "spark_df to csv\n",
      "(80000, 20)\n",
      "pandas_df to csv\n",
      "spark_df to csv\n",
      "pandas_df to csv\n",
      "spark_df to csv\n",
      "pandas_df to csv\n",
      "spark_df to csv\n",
      "pandas_df to csv\n",
      "spark_df to csv\n",
      "pandas_df to csv\n",
      "spark_df to csv\n",
      "(90000, 20)\n",
      "pandas_df to csv\n",
      "spark_df to csv\n",
      "pandas_df to csv\n",
      "spark_df to csv\n",
      "pandas_df to csv\n",
      "spark_df to csv\n",
      "pandas_df to csv\n",
      "spark_df to csv\n",
      "pandas_df to csv\n",
      "spark_df to csv\n",
      "(100000, 20)\n",
      "pandas_df to csv\n",
      "spark_df to csv\n",
      "pandas_df to csv\n",
      "spark_df to csv\n",
      "pandas_df to csv\n",
      "spark_df to csv\n",
      "pandas_df to csv\n",
      "spark_df to csv\n",
      "pandas_df to csv\n",
      "spark_df to csv\n"
     ]
    }
   ],
   "source": [
    "# load time small statistics\n",
    "time_statistics_small = pd.read_csv(\"data/time_statistics_small.csv\")\n",
    "\n",
    "# iterate over small step dataframes\n",
    "for i in range(len(small_step_pd)):\n",
    "    df_pd = small_step_pd[i]\n",
    "    df_spark = small_step_spark[i]\n",
    "    print(df_pd.shape)\n",
    "    average_pandas_time, average_pyspark_time, _ , _ = utils.iterations(test.load_data, 5, spark, df_pd, df_spark)\n",
    "    time_statistics_small.loc[(time_statistics_small['row_count'] == df_pd.shape[0]) & (time_statistics_small[\"column_count\"] == df_pd.shape[1]), [\"read_pd\", \"read_spark\"]] = [average_pandas_time, average_pyspark_time]\n",
    "\n",
    "# save time small statistics\n",
    "time_statistics_small.to_csv(\"data/time_statistics_small.csv\", index=False)"
   ]
  },
  {
   "cell_type": "code",
   "execution_count": 8,
   "metadata": {},
   "outputs": [
    {
     "name": "stdout",
     "output_type": "stream",
     "text": [
      "(50000, 20)\n",
      "pandas_df to csv\n",
      "spark_df to csv\n",
      "pandas_df to csv\n",
      "spark_df to csv\n",
      "pandas_df to csv\n",
      "spark_df to csv\n",
      "pandas_df to csv\n",
      "spark_df to csv\n",
      "pandas_df to csv\n",
      "spark_df to csv\n",
      "(100000, 20)\n",
      "pandas_df to csv\n",
      "spark_df to csv\n",
      "pandas_df to csv\n",
      "spark_df to csv\n",
      "pandas_df to csv\n",
      "spark_df to csv\n",
      "pandas_df to csv\n",
      "spark_df to csv\n",
      "pandas_df to csv\n",
      "spark_df to csv\n",
      "(150000, 20)\n",
      "pandas_df to csv\n",
      "spark_df to csv\n",
      "pandas_df to csv\n",
      "spark_df to csv\n",
      "pandas_df to csv\n",
      "spark_df to csv\n",
      "pandas_df to csv\n",
      "spark_df to csv\n",
      "pandas_df to csv\n",
      "spark_df to csv\n",
      "(200000, 20)\n",
      "pandas_df to csv\n",
      "spark_df to csv\n",
      "pandas_df to csv\n",
      "spark_df to csv\n",
      "pandas_df to csv\n",
      "spark_df to csv\n",
      "pandas_df to csv\n",
      "spark_df to csv\n",
      "pandas_df to csv\n",
      "spark_df to csv\n",
      "(250000, 20)\n",
      "pandas_df to csv\n",
      "spark_df to csv\n",
      "pandas_df to csv\n",
      "spark_df to csv\n",
      "pandas_df to csv\n",
      "spark_df to csv\n",
      "pandas_df to csv\n",
      "spark_df to csv\n",
      "pandas_df to csv\n",
      "spark_df to csv\n",
      "(300000, 20)\n",
      "pandas_df to csv\n",
      "spark_df to csv\n",
      "pandas_df to csv\n",
      "spark_df to csv\n",
      "pandas_df to csv\n",
      "spark_df to csv\n",
      "pandas_df to csv\n",
      "spark_df to csv\n",
      "pandas_df to csv\n",
      "spark_df to csv\n",
      "(350000, 20)\n",
      "pandas_df to csv\n",
      "spark_df to csv\n",
      "pandas_df to csv\n",
      "spark_df to csv\n",
      "pandas_df to csv\n",
      "spark_df to csv\n",
      "pandas_df to csv\n",
      "spark_df to csv\n",
      "pandas_df to csv\n",
      "spark_df to csv\n",
      "(400000, 20)\n",
      "pandas_df to csv\n",
      "spark_df to csv\n",
      "pandas_df to csv\n",
      "spark_df to csv\n",
      "pandas_df to csv\n",
      "spark_df to csv\n",
      "pandas_df to csv\n",
      "spark_df to csv\n",
      "pandas_df to csv\n",
      "spark_df to csv\n",
      "(450000, 20)\n",
      "pandas_df to csv\n",
      "spark_df to csv\n",
      "pandas_df to csv\n",
      "spark_df to csv\n",
      "pandas_df to csv\n",
      "spark_df to csv\n",
      "pandas_df to csv\n"
     ]
    },
    {
     "name": "stderr",
     "output_type": "stream",
     "text": [
      "                                                                                \r"
     ]
    },
    {
     "name": "stdout",
     "output_type": "stream",
     "text": [
      "spark_df to csv\n",
      "pandas_df to csv\n"
     ]
    },
    {
     "name": "stderr",
     "output_type": "stream",
     "text": [
      "                                                                                \r"
     ]
    },
    {
     "name": "stdout",
     "output_type": "stream",
     "text": [
      "spark_df to csv\n",
      "(500000, 20)\n",
      "pandas_df to csv\n",
      "spark_df to csv\n",
      "pandas_df to csv\n",
      "spark_df to csv\n",
      "pandas_df to csv\n"
     ]
    },
    {
     "name": "stderr",
     "output_type": "stream",
     "text": [
      "                                                                                \r"
     ]
    },
    {
     "name": "stdout",
     "output_type": "stream",
     "text": [
      "spark_df to csv\n",
      "pandas_df to csv\n",
      "spark_df to csv\n",
      "pandas_df to csv\n"
     ]
    },
    {
     "name": "stderr",
     "output_type": "stream",
     "text": [
      "                                                                                \r"
     ]
    },
    {
     "name": "stdout",
     "output_type": "stream",
     "text": [
      "spark_df to csv\n",
      "(550000, 20)\n",
      "pandas_df to csv\n"
     ]
    },
    {
     "name": "stderr",
     "output_type": "stream",
     "text": [
      "                                                                                \r"
     ]
    },
    {
     "name": "stdout",
     "output_type": "stream",
     "text": [
      "spark_df to csv\n",
      "pandas_df to csv\n"
     ]
    },
    {
     "name": "stderr",
     "output_type": "stream",
     "text": [
      "                                                                                \r"
     ]
    },
    {
     "name": "stdout",
     "output_type": "stream",
     "text": [
      "spark_df to csv\n",
      "pandas_df to csv\n"
     ]
    },
    {
     "name": "stderr",
     "output_type": "stream",
     "text": [
      "                                                                                \r"
     ]
    },
    {
     "name": "stdout",
     "output_type": "stream",
     "text": [
      "spark_df to csv\n",
      "pandas_df to csv\n",
      "spark_df to csv\n",
      "pandas_df to csv\n",
      "spark_df to csv\n",
      "(600000, 20)\n",
      "pandas_df to csv\n",
      "spark_df to csv\n",
      "pandas_df to csv\n"
     ]
    },
    {
     "name": "stderr",
     "output_type": "stream",
     "text": [
      "                                                                                \r"
     ]
    },
    {
     "name": "stdout",
     "output_type": "stream",
     "text": [
      "spark_df to csv\n",
      "pandas_df to csv\n"
     ]
    },
    {
     "name": "stderr",
     "output_type": "stream",
     "text": [
      "                                                                                \r"
     ]
    },
    {
     "name": "stdout",
     "output_type": "stream",
     "text": [
      "spark_df to csv\n",
      "pandas_df to csv\n"
     ]
    },
    {
     "name": "stderr",
     "output_type": "stream",
     "text": [
      "                                                                                \r"
     ]
    },
    {
     "name": "stdout",
     "output_type": "stream",
     "text": [
      "spark_df to csv\n",
      "pandas_df to csv\n"
     ]
    },
    {
     "name": "stderr",
     "output_type": "stream",
     "text": [
      "                                                                                \r"
     ]
    },
    {
     "name": "stdout",
     "output_type": "stream",
     "text": [
      "spark_df to csv\n",
      "(650000, 20)\n",
      "pandas_df to csv\n"
     ]
    },
    {
     "name": "stderr",
     "output_type": "stream",
     "text": [
      "                                                                                \r"
     ]
    },
    {
     "name": "stdout",
     "output_type": "stream",
     "text": [
      "spark_df to csv\n",
      "pandas_df to csv\n"
     ]
    },
    {
     "name": "stderr",
     "output_type": "stream",
     "text": [
      "                                                                                \r"
     ]
    },
    {
     "name": "stdout",
     "output_type": "stream",
     "text": [
      "spark_df to csv\n",
      "pandas_df to csv\n"
     ]
    },
    {
     "name": "stderr",
     "output_type": "stream",
     "text": [
      "                                                                                \r"
     ]
    },
    {
     "name": "stdout",
     "output_type": "stream",
     "text": [
      "spark_df to csv\n",
      "pandas_df to csv\n"
     ]
    },
    {
     "name": "stderr",
     "output_type": "stream",
     "text": [
      "                                                                                \r"
     ]
    },
    {
     "name": "stdout",
     "output_type": "stream",
     "text": [
      "spark_df to csv\n",
      "pandas_df to csv\n"
     ]
    },
    {
     "name": "stderr",
     "output_type": "stream",
     "text": [
      "                                                                                \r"
     ]
    },
    {
     "name": "stdout",
     "output_type": "stream",
     "text": [
      "spark_df to csv\n",
      "(700000, 20)\n",
      "pandas_df to csv\n"
     ]
    },
    {
     "name": "stderr",
     "output_type": "stream",
     "text": [
      "                                                                                \r"
     ]
    },
    {
     "name": "stdout",
     "output_type": "stream",
     "text": [
      "spark_df to csv\n",
      "pandas_df to csv\n"
     ]
    },
    {
     "name": "stderr",
     "output_type": "stream",
     "text": [
      "                                                                                \r"
     ]
    },
    {
     "name": "stdout",
     "output_type": "stream",
     "text": [
      "spark_df to csv\n",
      "pandas_df to csv\n"
     ]
    },
    {
     "name": "stderr",
     "output_type": "stream",
     "text": [
      "                                                                                \r"
     ]
    },
    {
     "name": "stdout",
     "output_type": "stream",
     "text": [
      "spark_df to csv\n",
      "pandas_df to csv\n"
     ]
    },
    {
     "name": "stderr",
     "output_type": "stream",
     "text": [
      "                                                                                \r"
     ]
    },
    {
     "name": "stdout",
     "output_type": "stream",
     "text": [
      "spark_df to csv\n",
      "pandas_df to csv\n"
     ]
    },
    {
     "name": "stderr",
     "output_type": "stream",
     "text": [
      "                                                                                \r"
     ]
    },
    {
     "name": "stdout",
     "output_type": "stream",
     "text": [
      "spark_df to csv\n",
      "(750000, 20)\n",
      "pandas_df to csv\n"
     ]
    },
    {
     "name": "stderr",
     "output_type": "stream",
     "text": [
      "                                                                                \r"
     ]
    },
    {
     "name": "stdout",
     "output_type": "stream",
     "text": [
      "spark_df to csv\n",
      "pandas_df to csv\n"
     ]
    },
    {
     "name": "stderr",
     "output_type": "stream",
     "text": [
      "                                                                                \r"
     ]
    },
    {
     "name": "stdout",
     "output_type": "stream",
     "text": [
      "spark_df to csv\n",
      "pandas_df to csv\n"
     ]
    },
    {
     "name": "stderr",
     "output_type": "stream",
     "text": [
      "                                                                                \r"
     ]
    },
    {
     "name": "stdout",
     "output_type": "stream",
     "text": [
      "spark_df to csv\n",
      "pandas_df to csv\n"
     ]
    },
    {
     "name": "stderr",
     "output_type": "stream",
     "text": [
      "                                                                                \r"
     ]
    },
    {
     "name": "stdout",
     "output_type": "stream",
     "text": [
      "spark_df to csv\n",
      "pandas_df to csv\n"
     ]
    },
    {
     "name": "stderr",
     "output_type": "stream",
     "text": [
      "                                                                                \r"
     ]
    },
    {
     "name": "stdout",
     "output_type": "stream",
     "text": [
      "spark_df to csv\n",
      "(800000, 20)\n",
      "pandas_df to csv\n"
     ]
    },
    {
     "name": "stderr",
     "output_type": "stream",
     "text": [
      "                                                                                \r"
     ]
    },
    {
     "name": "stdout",
     "output_type": "stream",
     "text": [
      "spark_df to csv\n",
      "pandas_df to csv\n"
     ]
    },
    {
     "name": "stderr",
     "output_type": "stream",
     "text": [
      "                                                                                \r"
     ]
    },
    {
     "name": "stdout",
     "output_type": "stream",
     "text": [
      "spark_df to csv\n",
      "pandas_df to csv\n"
     ]
    },
    {
     "name": "stderr",
     "output_type": "stream",
     "text": [
      "                                                                                \r"
     ]
    },
    {
     "name": "stdout",
     "output_type": "stream",
     "text": [
      "spark_df to csv\n",
      "pandas_df to csv\n"
     ]
    },
    {
     "name": "stderr",
     "output_type": "stream",
     "text": [
      "                                                                                \r"
     ]
    },
    {
     "name": "stdout",
     "output_type": "stream",
     "text": [
      "spark_df to csv\n",
      "pandas_df to csv\n"
     ]
    },
    {
     "name": "stderr",
     "output_type": "stream",
     "text": [
      "                                                                                \r"
     ]
    },
    {
     "name": "stdout",
     "output_type": "stream",
     "text": [
      "spark_df to csv\n",
      "(850000, 20)\n",
      "pandas_df to csv\n"
     ]
    },
    {
     "name": "stderr",
     "output_type": "stream",
     "text": [
      "                                                                                \r"
     ]
    },
    {
     "name": "stdout",
     "output_type": "stream",
     "text": [
      "spark_df to csv\n",
      "pandas_df to csv\n"
     ]
    },
    {
     "name": "stderr",
     "output_type": "stream",
     "text": [
      "                                                                                \r"
     ]
    },
    {
     "name": "stdout",
     "output_type": "stream",
     "text": [
      "spark_df to csv\n",
      "pandas_df to csv\n"
     ]
    },
    {
     "name": "stderr",
     "output_type": "stream",
     "text": [
      "                                                                                \r"
     ]
    },
    {
     "name": "stdout",
     "output_type": "stream",
     "text": [
      "spark_df to csv\n",
      "pandas_df to csv\n"
     ]
    },
    {
     "name": "stderr",
     "output_type": "stream",
     "text": [
      "                                                                                \r"
     ]
    },
    {
     "name": "stdout",
     "output_type": "stream",
     "text": [
      "spark_df to csv\n",
      "pandas_df to csv\n"
     ]
    },
    {
     "name": "stderr",
     "output_type": "stream",
     "text": [
      "                                                                                \r"
     ]
    },
    {
     "name": "stdout",
     "output_type": "stream",
     "text": [
      "spark_df to csv\n",
      "(900000, 20)\n",
      "pandas_df to csv\n"
     ]
    },
    {
     "name": "stderr",
     "output_type": "stream",
     "text": [
      "                                                                                \r"
     ]
    },
    {
     "name": "stdout",
     "output_type": "stream",
     "text": [
      "spark_df to csv\n",
      "pandas_df to csv\n"
     ]
    },
    {
     "name": "stderr",
     "output_type": "stream",
     "text": [
      "                                                                                \r"
     ]
    },
    {
     "name": "stdout",
     "output_type": "stream",
     "text": [
      "spark_df to csv\n",
      "pandas_df to csv\n"
     ]
    },
    {
     "name": "stderr",
     "output_type": "stream",
     "text": [
      "                                                                                \r"
     ]
    },
    {
     "name": "stdout",
     "output_type": "stream",
     "text": [
      "spark_df to csv\n",
      "pandas_df to csv\n"
     ]
    },
    {
     "name": "stderr",
     "output_type": "stream",
     "text": [
      "                                                                                \r"
     ]
    },
    {
     "name": "stdout",
     "output_type": "stream",
     "text": [
      "spark_df to csv\n",
      "pandas_df to csv\n"
     ]
    },
    {
     "name": "stderr",
     "output_type": "stream",
     "text": [
      "                                                                                \r"
     ]
    },
    {
     "name": "stdout",
     "output_type": "stream",
     "text": [
      "spark_df to csv\n",
      "(950000, 20)\n",
      "pandas_df to csv\n"
     ]
    },
    {
     "name": "stderr",
     "output_type": "stream",
     "text": [
      "                                                                                \r"
     ]
    },
    {
     "name": "stdout",
     "output_type": "stream",
     "text": [
      "spark_df to csv\n",
      "pandas_df to csv\n"
     ]
    },
    {
     "name": "stderr",
     "output_type": "stream",
     "text": [
      "                                                                                \r"
     ]
    },
    {
     "name": "stdout",
     "output_type": "stream",
     "text": [
      "spark_df to csv\n",
      "pandas_df to csv\n"
     ]
    },
    {
     "name": "stderr",
     "output_type": "stream",
     "text": [
      "                                                                                \r"
     ]
    },
    {
     "name": "stdout",
     "output_type": "stream",
     "text": [
      "spark_df to csv\n",
      "pandas_df to csv\n"
     ]
    },
    {
     "name": "stderr",
     "output_type": "stream",
     "text": [
      "                                                                                \r"
     ]
    },
    {
     "name": "stdout",
     "output_type": "stream",
     "text": [
      "spark_df to csv\n",
      "pandas_df to csv\n"
     ]
    },
    {
     "name": "stderr",
     "output_type": "stream",
     "text": [
      "                                                                                \r"
     ]
    },
    {
     "name": "stdout",
     "output_type": "stream",
     "text": [
      "spark_df to csv\n",
      "(1000000, 20)\n",
      "pandas_df to csv\n"
     ]
    },
    {
     "name": "stderr",
     "output_type": "stream",
     "text": [
      "                                                                                \r"
     ]
    },
    {
     "name": "stdout",
     "output_type": "stream",
     "text": [
      "spark_df to csv\n",
      "pandas_df to csv\n"
     ]
    },
    {
     "name": "stderr",
     "output_type": "stream",
     "text": [
      "                                                                                \r"
     ]
    },
    {
     "name": "stdout",
     "output_type": "stream",
     "text": [
      "spark_df to csv\n",
      "pandas_df to csv\n"
     ]
    },
    {
     "name": "stderr",
     "output_type": "stream",
     "text": [
      "                                                                                \r"
     ]
    },
    {
     "name": "stdout",
     "output_type": "stream",
     "text": [
      "spark_df to csv\n",
      "pandas_df to csv\n"
     ]
    },
    {
     "name": "stderr",
     "output_type": "stream",
     "text": [
      "                                                                                \r"
     ]
    },
    {
     "name": "stdout",
     "output_type": "stream",
     "text": [
      "spark_df to csv\n",
      "pandas_df to csv\n"
     ]
    },
    {
     "name": "stderr",
     "output_type": "stream",
     "text": [
      "[Stage 361:>                                                      (0 + 16) / 16]\r"
     ]
    },
    {
     "name": "stdout",
     "output_type": "stream",
     "text": [
      "spark_df to csv\n"
     ]
    },
    {
     "name": "stderr",
     "output_type": "stream",
     "text": [
      "                                                                                \r"
     ]
    }
   ],
   "source": [
    "# load time statistics\n",
    "time_statistics_large = pd.read_csv(\"data/time_statistics_large.csv\")\n",
    "\n",
    "# I iterated in steps - because of memory allocation issues\n",
    "for i in range(len(large_step_pd)):\n",
    "    df_pd = large_step_pd[i]\n",
    "    df_spark = large_step_spark[i]\n",
    "    print(df_pd.shape)\n",
    "    average_pandas_time, average_pyspark_time, _ , _ = utils.iterations(test.load_data, 5, spark, df_pd, df_spark)\n",
    "    time_statistics_large.loc[(time_statistics_large['row_count'] == df_pd.shape[0]) & (time_statistics_large[\"column_count\"] == df_pd.shape[1]), [\"read_pd\", \"read_spark\"]] = [average_pandas_time, average_pyspark_time]\n",
    "\n",
    "# save time statistics\n",
    "time_statistics_large.to_csv(\"data/time_statistics_large.csv\", index=False)"
   ]
  },
  {
   "cell_type": "markdown",
   "metadata": {},
   "source": [
    "#### Test 3: Drop NaN Values"
   ]
  },
  {
   "cell_type": "code",
   "execution_count": 6,
   "metadata": {},
   "outputs": [
    {
     "name": "stdout",
     "output_type": "stream",
     "text": [
      "(10000, 20)\n",
      "(20000, 20)\n",
      "(30000, 20)\n",
      "(40000, 20)\n",
      "(50000, 20)\n",
      "(60000, 20)\n",
      "(70000, 20)\n",
      "(80000, 20)\n",
      "(90000, 20)\n",
      "(100000, 20)\n"
     ]
    }
   ],
   "source": [
    "# load time small statistics\n",
    "time_statistics_small = pd.read_csv(\"data/time_statistics_small.csv\")\n",
    "\n",
    "# run test\n",
    "time_statistics_small = utils.test_run(test.drop_nan, \"drop_na_pd\", \"drop_na_spark\", time_statistics_small, small_step_pd, small_step_spark, spark, 100)\n",
    "\n",
    "# save time small statistics\n",
    "time_statistics_small.to_csv(\"data/time_statistics_small.csv\", index=False)"
   ]
  },
  {
   "cell_type": "code",
   "execution_count": 7,
   "metadata": {},
   "outputs": [
    {
     "name": "stdout",
     "output_type": "stream",
     "text": [
      "(50000, 20)\n",
      "(100000, 20)\n",
      "(150000, 20)\n",
      "(200000, 20)\n",
      "(250000, 20)\n",
      "(300000, 20)\n",
      "(350000, 20)\n",
      "(400000, 20)\n",
      "(450000, 20)\n",
      "(500000, 20)\n",
      "(550000, 20)\n",
      "(600000, 20)\n",
      "(650000, 20)\n",
      "(700000, 20)\n",
      "(750000, 20)\n",
      "(800000, 20)\n",
      "(850000, 20)\n",
      "(900000, 20)\n",
      "(950000, 20)\n",
      "(1000000, 20)\n"
     ]
    }
   ],
   "source": [
    "# load time statistics\n",
    "time_statistics_large = pd.read_csv(\"data/time_statistics_large.csv\")\n",
    "\n",
    "# run test\n",
    "time_statistics_large = utils.test_run(test.drop_nan, \"drop_na_pd\", \"drop_na_spark\", time_statistics_large, large_step_pd, large_step_spark, spark, 100)\n",
    "\n",
    "# save time statistics\n",
    "time_statistics_large.to_csv(\"data/time_statistics_large.csv\", index=False)"
   ]
  },
  {
   "cell_type": "markdown",
   "metadata": {},
   "source": [
    "#### Test 4: Fill NaN Values"
   ]
  },
  {
   "cell_type": "code",
   "execution_count": 8,
   "metadata": {},
   "outputs": [
    {
     "name": "stdout",
     "output_type": "stream",
     "text": [
      "(10000, 20)\n",
      "(20000, 20)\n",
      "(30000, 20)\n",
      "(40000, 20)\n",
      "(50000, 20)\n",
      "(60000, 20)\n",
      "(70000, 20)\n",
      "(80000, 20)\n",
      "(90000, 20)\n",
      "(100000, 20)\n"
     ]
    }
   ],
   "source": [
    "# load time small statistics\n",
    "time_statistics_small = pd.read_csv(\"data/time_statistics_small.csv\")\n",
    "\n",
    "# run test\n",
    "time_statistics_small = utils.test_run(test.fill_nan, \"fill_na_pd\", \"fill_na_spark\", time_statistics_small, small_step_pd, small_step_spark, spark, 100)\n",
    "\n",
    "# save time small statistics\n",
    "time_statistics_small.to_csv(\"data/time_statistics_small.csv\", index=False)"
   ]
  },
  {
   "cell_type": "code",
   "execution_count": null,
   "metadata": {},
   "outputs": [
    {
     "name": "stdout",
     "output_type": "stream",
     "text": [
      "(50000, 20)\n",
      "(100000, 20)\n",
      "(150000, 20)\n",
      "(200000, 20)\n",
      "(250000, 20)\n",
      "(300000, 20)\n",
      "(350000, 20)\n",
      "(400000, 20)\n",
      "(450000, 20)\n",
      "(500000, 20)\n",
      "(550000, 20)\n",
      "(600000, 20)\n",
      "(650000, 20)\n",
      "(700000, 20)\n",
      "(750000, 20)\n",
      "(800000, 20)\n",
      "(850000, 20)\n",
      "(900000, 20)\n",
      "(950000, 20)\n",
      "(1000000, 20)\n"
     ]
    }
   ],
   "source": [
    "# load time statistics\n",
    "time_statistics_large = pd.read_csv(\"data/time_statistics_large.csv\")\n",
    "\n",
    "# run test\n",
    "time_statistics_large = utils.test_run(test.fill_nan, \"fill_na_pd\", \"fill_na_spark\", time_statistics_large, large_step_pd, large_step_spark, spark, 50)\n",
    "\n",
    "# save time statistics\n",
    "time_statistics_large.to_csv(\"data/time_statistics_large.csv\", index=False)"
   ]
  },
  {
   "cell_type": "markdown",
   "metadata": {},
   "source": [
    "#### Test 5: Groupby"
   ]
  },
  {
   "cell_type": "code",
   "execution_count": 8,
   "metadata": {},
   "outputs": [
    {
     "name": "stdout",
     "output_type": "stream",
     "text": [
      "(10000, 20)\n",
      "(20000, 20)\n",
      "(30000, 20)\n",
      "(40000, 20)\n",
      "(50000, 20)\n",
      "(60000, 20)\n",
      "(70000, 20)\n",
      "(80000, 20)\n",
      "(90000, 20)\n",
      "(100000, 20)\n"
     ]
    }
   ],
   "source": [
    "# load time small statistics\n",
    "time_statistics_small = pd.read_csv(\"data/time_statistics_small.csv\")\n",
    "\n",
    "# run test\n",
    "time_statistics_small = utils.test_run(test.group_df, \"group_pd\", \"group_spark\", time_statistics_small, small_step_pd, small_step_spark, spark, 100)\n",
    "\n",
    "# save time small statistics\n",
    "time_statistics_small.to_csv(\"data/time_statistics_small.csv\", index=False)"
   ]
  },
  {
   "cell_type": "code",
   "execution_count": 9,
   "metadata": {},
   "outputs": [
    {
     "name": "stdout",
     "output_type": "stream",
     "text": [
      "(50000, 20)\n",
      "(100000, 20)\n",
      "(150000, 20)\n",
      "(200000, 20)\n",
      "(250000, 20)\n",
      "(300000, 20)\n",
      "(350000, 20)\n",
      "(400000, 20)\n",
      "(450000, 20)\n",
      "(500000, 20)\n",
      "(550000, 20)\n",
      "(600000, 20)\n",
      "(650000, 20)\n",
      "(700000, 20)\n",
      "(750000, 20)\n",
      "(800000, 20)\n",
      "(850000, 20)\n",
      "(900000, 20)\n",
      "(950000, 20)\n",
      "(1000000, 20)\n"
     ]
    }
   ],
   "source": [
    "# load time statistics\n",
    "time_statistics_large = pd.read_csv(\"data/time_statistics_large.csv\")\n",
    "\n",
    "# run test\n",
    "time_statistics_large = utils.test_run(test.group_df, \"group_pd\", \"group_spark\", time_statistics_large, large_step_pd, large_step_spark, spark, 100)\n",
    "\n",
    "# save time statistics\n",
    "time_statistics_large.to_csv(\"data/time_statistics_large.csv\", index=False)"
   ]
  },
  {
   "cell_type": "markdown",
   "metadata": {},
   "source": [
    "#### Test 6: GroupBy and Sum"
   ]
  },
  {
   "cell_type": "code",
   "execution_count": 8,
   "metadata": {},
   "outputs": [
    {
     "name": "stdout",
     "output_type": "stream",
     "text": [
      "(10000, 20)\n",
      "(20000, 20)\n",
      "(30000, 20)\n",
      "(40000, 20)\n",
      "(50000, 20)\n",
      "(60000, 20)\n",
      "(70000, 20)\n",
      "(80000, 20)\n",
      "(90000, 20)\n",
      "(100000, 20)\n"
     ]
    }
   ],
   "source": [
    "# load time small statistics\n",
    "time_statistics_small = pd.read_csv(\"data/time_statistics_small.csv\")\n",
    "\n",
    "# run test\n",
    "time_statistics_small = utils.test_run(test.group_sum_df, \"group_sum_pd\", \"group_sum_spark\", time_statistics_small, small_step_pd, small_step_spark, spark, 50)\n",
    "\n",
    "# save time small statistics\n",
    "time_statistics_small.to_csv(\"data/time_statistics_small.csv\", index=False)"
   ]
  },
  {
   "cell_type": "code",
   "execution_count": 9,
   "metadata": {},
   "outputs": [
    {
     "name": "stdout",
     "output_type": "stream",
     "text": [
      "(50000, 20)\n",
      "(100000, 20)\n",
      "(150000, 20)\n",
      "(200000, 20)\n",
      "(250000, 20)\n",
      "(300000, 20)\n",
      "(350000, 20)\n",
      "(400000, 20)\n",
      "(450000, 20)\n",
      "(500000, 20)\n",
      "(550000, 20)\n",
      "(600000, 20)\n",
      "(650000, 20)\n",
      "(700000, 20)\n",
      "(750000, 20)\n",
      "(800000, 20)\n",
      "(850000, 20)\n",
      "(900000, 20)\n",
      "(950000, 20)\n",
      "(1000000, 20)\n"
     ]
    }
   ],
   "source": [
    "# load time statistics\n",
    "time_statistics_large = pd.read_csv(\"data/time_statistics_large.csv\")\n",
    "\n",
    "# run test\n",
    "time_statistics_large = utils.test_run(test.group_sum_df, \"group_sum_pd\", \"group_sum_spark\", time_statistics_large, large_step_pd, large_step_spark, spark, 30)\n",
    "\n",
    "# save time statistics\n",
    "time_statistics_large.to_csv(\"data/time_statistics_large.csv\", index=False)"
   ]
  },
  {
   "cell_type": "markdown",
   "metadata": {},
   "source": [
    "#### Test 7: GroupBy and Count"
   ]
  },
  {
   "cell_type": "code",
   "execution_count": 6,
   "metadata": {},
   "outputs": [
    {
     "name": "stdout",
     "output_type": "stream",
     "text": [
      "(10000, 20)\n",
      "(20000, 20)\n",
      "(30000, 20)\n",
      "(40000, 20)\n",
      "(50000, 20)\n",
      "(60000, 20)\n",
      "(70000, 20)\n",
      "(80000, 20)\n",
      "(90000, 20)\n",
      "(100000, 20)\n"
     ]
    }
   ],
   "source": [
    "# load time small statistics\n",
    "time_statistics_small = pd.read_csv(\"data/time_statistics_small.csv\")\n",
    "\n",
    "# run test\n",
    "time_statistics_small = utils.test_run(test.group_count_df, \"group_count_pd\", \"group_count_spark\", time_statistics_small, small_step_pd, small_step_spark, spark, 50)\n",
    "\n",
    "# save time small statistics\n",
    "time_statistics_small.to_csv(\"data/time_statistics_small.csv\", index=False)"
   ]
  },
  {
   "cell_type": "code",
   "execution_count": 9,
   "metadata": {},
   "outputs": [
    {
     "name": "stdout",
     "output_type": "stream",
     "text": [
      "(50000, 20)\n",
      "(100000, 20)\n",
      "(150000, 20)\n",
      "(200000, 20)\n",
      "(250000, 20)\n",
      "(300000, 20)\n",
      "(350000, 20)\n",
      "(400000, 20)\n",
      "(450000, 20)\n",
      "(500000, 20)\n",
      "(550000, 20)\n",
      "(600000, 20)\n",
      "(650000, 20)\n",
      "(700000, 20)\n",
      "(750000, 20)\n",
      "(800000, 20)\n",
      "(850000, 20)\n",
      "(900000, 20)\n",
      "(950000, 20)\n",
      "(1000000, 20)\n"
     ]
    }
   ],
   "source": [
    "# load time statistics\n",
    "time_statistics_large = pd.read_csv(\"data/time_statistics_large.csv\")\n",
    "\n",
    "# run test\n",
    "time_statistics_large = utils.test_run(test.group_count_df, \"group_count_pd\", \"group_count_spark\", time_statistics_large, large_step_pd, large_step_spark, spark, 30)\n",
    "\n",
    "# save time statistics\n",
    "time_statistics_large.to_csv(\"data/time_statistics_large.csv\", index=False)"
   ]
  },
  {
   "cell_type": "markdown",
   "metadata": {},
   "source": [
    "#### Test 8: Filter by Column Value (under 0)"
   ]
  },
  {
   "cell_type": "code",
   "execution_count": 8,
   "metadata": {},
   "outputs": [
    {
     "name": "stdout",
     "output_type": "stream",
     "text": [
      "(10000, 20)\n",
      "(20000, 20)\n",
      "(30000, 20)\n",
      "(40000, 20)\n",
      "(50000, 20)\n",
      "(60000, 20)\n",
      "(70000, 20)\n",
      "(80000, 20)\n",
      "(90000, 20)\n",
      "(100000, 20)\n"
     ]
    }
   ],
   "source": [
    "# load time small statistics\n",
    "time_statistics_small = pd.read_csv(\"data/time_statistics_small.csv\")\n",
    "\n",
    "# run test\n",
    "time_statistics_small = utils.test_run(test.filter_less_0, \"filter_less_0_pd\", \"filter_less_0_spark\", time_statistics_small, small_step_pd, small_step_spark, spark, 100)\n",
    "\n",
    "# save time small statistics\n",
    "time_statistics_small.to_csv(\"data/time_statistics_small.csv\", index=False)"
   ]
  },
  {
   "cell_type": "code",
   "execution_count": 10,
   "metadata": {},
   "outputs": [
    {
     "name": "stdout",
     "output_type": "stream",
     "text": [
      "(50000, 20)\n",
      "(100000, 20)\n",
      "(150000, 20)\n",
      "(200000, 20)\n",
      "(250000, 20)\n",
      "(300000, 20)\n",
      "(350000, 20)\n",
      "(400000, 20)\n",
      "(450000, 20)\n",
      "(500000, 20)\n",
      "(550000, 20)\n",
      "(600000, 20)\n",
      "(650000, 20)\n",
      "(700000, 20)\n",
      "(750000, 20)\n",
      "(800000, 20)\n",
      "(850000, 20)\n",
      "(900000, 20)\n",
      "(950000, 20)\n",
      "(1000000, 20)\n"
     ]
    }
   ],
   "source": [
    "# load time statistics\n",
    "time_statistics_large = pd.read_csv(\"data/time_statistics_large.csv\")\n",
    "\n",
    "# run test\n",
    "time_statistics_large = utils.test_run(test.filter_less_0, \"filter_less_0_pd\", \"filter_less_0_spark\", time_statistics_large, large_step_pd, large_step_spark, spark, 50)\n",
    "\n",
    "# save time statistics\n",
    "time_statistics_large.to_csv(\"data/time_statistics_large.csv\", index=False)"
   ]
  },
  {
   "cell_type": "markdown",
   "metadata": {},
   "source": [
    "#### Test 9: Filter by Column Value (under 10)"
   ]
  },
  {
   "cell_type": "code",
   "execution_count": 9,
   "metadata": {},
   "outputs": [
    {
     "name": "stdout",
     "output_type": "stream",
     "text": [
      "(10000, 20)\n",
      "(20000, 20)\n",
      "(30000, 20)\n",
      "(40000, 20)\n",
      "(50000, 20)\n",
      "(60000, 20)\n",
      "(70000, 20)\n",
      "(80000, 20)\n",
      "(90000, 20)\n",
      "(100000, 20)\n"
     ]
    }
   ],
   "source": [
    "# load time small statistics\n",
    "time_statistics_small = pd.read_csv(\"data/time_statistics_small.csv\")\n",
    "\n",
    "# run test\n",
    "time_statistics_small = utils.test_run(test.filter_less_10, \"filter_less_10_pd\", \"filter_less_10_spark\", time_statistics_small, small_step_pd, small_step_spark, spark, 100)\n",
    "\n",
    "# save time small statistics\n",
    "time_statistics_small.to_csv(\"data/time_statistics_small.csv\", index=False)"
   ]
  },
  {
   "cell_type": "code",
   "execution_count": null,
   "metadata": {},
   "outputs": [
    {
     "name": "stdout",
     "output_type": "stream",
     "text": [
      "(50000, 20)\n",
      "(100000, 20)\n",
      "(150000, 20)\n",
      "(200000, 20)\n",
      "(250000, 20)\n",
      "(300000, 20)\n",
      "(350000, 20)\n",
      "(400000, 20)\n",
      "(450000, 20)\n",
      "(500000, 20)\n",
      "(550000, 20)\n",
      "(600000, 20)\n",
      "(650000, 20)\n",
      "(700000, 20)\n",
      "(750000, 20)\n",
      "(800000, 20)\n",
      "(850000, 20)\n",
      "(900000, 20)\n",
      "(950000, 20)\n",
      "(1000000, 20)\n"
     ]
    }
   ],
   "source": [
    "# load time statistics\n",
    "time_statistics_large = pd.read_csv(\"data/time_statistics_large.csv\")\n",
    "\n",
    "# run test\n",
    "time_statistics_large = utils.test_run(test.filter_less_10, \"filter_less_10_pd\", \"filter_less_10_spark\", time_statistics_large, large_step_pd, large_step_spark, spark, 50)\n",
    "\n",
    "# save time statistics\n",
    "time_statistics_large.to_csv(\"data/time_statistics_large.csv\", index=False)"
   ]
  },
  {
   "cell_type": "markdown",
   "metadata": {},
   "source": [
    "#### Test 10: Join Dataframes"
   ]
  },
  {
   "cell_type": "code",
   "execution_count": 5,
   "metadata": {},
   "outputs": [
    {
     "name": "stdout",
     "output_type": "stream",
     "text": [
      "(10000, 20)\n",
      "(20000, 20)\n",
      "(30000, 20)\n",
      "(40000, 20)\n",
      "(50000, 20)\n"
     ]
    }
   ],
   "source": [
    "# load time small statistics\n",
    "time_statistics_small = pd.read_csv(\"data/time_statistics_small.csv\")\n",
    "\n",
    "# run test\n",
    "time_statistics_small = utils.test_run(test.join_df, \"join_pd\", \"join_spark\", time_statistics_small, small_step_pd, small_step_spark, spark, 5)\n",
    "\n",
    "# save time small statistics\n",
    "time_statistics_small.to_csv(\"data/time_statistics_small.csv\", index=False)\n"
   ]
  },
  {
   "cell_type": "code",
   "execution_count": null,
   "metadata": {},
   "outputs": [],
   "source": [
    "# load time statistics\n",
    "time_statistics_large = pd.read_csv(\"data/time_statistics_large.csv\")\n",
    "\n",
    "# run test\n",
    "time_statistics_large = utils.test_run(test.join_df, \"join_pd\", \"join_spark\", time_statistics_large, large_step_pd, large_step_spark, spark, 3)\n",
    "\n",
    "# save time statistics\n",
    "time_statistics_large.to_csv(\"data/time_statistics_large.csv\", index=False)"
   ]
  },
  {
   "cell_type": "markdown",
   "metadata": {},
   "source": [
    "#### Test 11: Multiplication (Build-In)"
   ]
  },
  {
   "cell_type": "code",
   "execution_count": null,
   "metadata": {},
   "outputs": [],
   "source": [
    "# load time statistics\n",
    "time_statistics_small = pd.read_csv(\"data/time_statistics_small.csv\")\n",
    "\n",
    "# run test\n",
    "time_statistics_small = utils.test_run(test.multiply_build_in, \"mul_build_pd\", \"mul_build_spark\", time_statistics_small, small_step_pd, small_step_spark, 10)\n",
    "\n",
    "# save time small statistics\n",
    "time_statistics_small.to_csv(\"data/time_statistics_small.csv\", index=False)"
   ]
  },
  {
   "cell_type": "code",
   "execution_count": null,
   "metadata": {},
   "outputs": [],
   "source": [
    "# load time statistics\n",
    "time_statistics_large = pd.read_csv(\"data/time_statistics_large.csv\")\n",
    "\n",
    "# run test\n",
    "time_statistics_large = utils.test_run(test.multiply_build_in, \"mul_build_pd\", \"mul_build_spark\", time_statistics_large, large_step_pd, large_step_spark, 10)\n",
    "\n",
    "# save time statistics\n",
    "time_statistics_large.to_csv(\"data/time_statistics_large.csv\", index=False)"
   ]
  },
  {
   "cell_type": "code",
   "execution_count": null,
   "metadata": {},
   "outputs": [],
   "source": []
  },
  {
   "cell_type": "code",
   "execution_count": null,
   "metadata": {},
   "outputs": [],
   "source": []
  },
  {
   "cell_type": "code",
   "execution_count": null,
   "metadata": {},
   "outputs": [],
   "source": []
  },
  {
   "cell_type": "code",
   "execution_count": null,
   "metadata": {},
   "outputs": [],
   "source": []
  },
  {
   "cell_type": "code",
   "execution_count": null,
   "metadata": {},
   "outputs": [],
   "source": []
  },
  {
   "cell_type": "markdown",
   "metadata": {},
   "source": [
    "#### Blank"
   ]
  },
  {
   "cell_type": "code",
   "execution_count": null,
   "metadata": {},
   "outputs": [],
   "source": [
    "# load time small statistics\n",
    "time_statistics_small = pd.read_csv(\"data/time_statistics_small.csv\")\n",
    "\n",
    "# iterate over small step dataframes\n",
    "for i in range(len(small_step_pd)):\n",
    "    df_pd = small_step_pd[i]\n",
    "    df_spark = small_step_spark[i]\n",
    "    print(df_pd.shape)\n",
    "    average_pandas_time, average_pyspark_time, _ , _ = utils.iterations(test.FUNCTION, 5, spark, df_pd, df_spark)\n",
    "    time_statistics_small.loc[(time_statistics_small['row_count'] == df_pd.shape[0]) & (time_statistics_small[\"column_count\"] == df_pd.shape[1]), [\"CUSTOM_NAME\", \"CUSTOM_NAME\"]] = [average_pandas_time, average_pyspark_time]\n",
    "\n",
    "# save time small statistics\n",
    "time_statistics_small.to_csv(\"data/time_statistics_small.csv\", index=False)"
   ]
  },
  {
   "cell_type": "code",
   "execution_count": null,
   "metadata": {},
   "outputs": [],
   "source": [
    "# load time statistics\n",
    "time_statistics_large = pd.read_csv(\"data/time_statistics_large.csv\")\n",
    "\n",
    "# I iterated in steps - because of memory allocation issues\n",
    "for i in range(len(large_step_pd)):\n",
    "    df_pd = large_step_pd[i]\n",
    "    df_spark = large_step_spark[i]\n",
    "    print(df_pd.shape)\n",
    "    average_pandas_time, average_pyspark_time, _ , _ = utils.iterations(test.FUNCTION, 5, spark, df_pd, df_spark)\n",
    "    time_statistics_large.loc[(time_statistics_large['row_count'] == df_pd.shape[0]) & (time_statistics_large[\"column_count\"] == df_pd.shape[1]), [\"CUSTOM_NAME\", \"CUSTOM_NAME\"]] = [average_pandas_time, average_pyspark_time]\n",
    "\n",
    "# save time statistics\n",
    "time_statistics_large.to_csv(\"data/time_statistics_large.csv\", index=False)"
   ]
  },
  {
   "cell_type": "code",
   "execution_count": null,
   "metadata": {},
   "outputs": [],
   "source": [
    "# load time small statistics\n",
    "time_statistics_small = pd.read_csv(\"data/time_statistics_small.csv\")\n",
    "\n",
    "# run test\n",
    "time_statistics_small = utils.test_run(test.FUNCTION, \"NAME_PD\", \"NAME_SPARK\", time_statistics_small, small_step_pd, small_step_spark, 10)\n",
    "\n",
    "# save time small statistics\n",
    "time_statistics_small.to_csv(\"data/time_statistics_small.csv\", index=False)\n",
    "\n",
    "\n",
    "\n",
    "\n",
    "\n",
    "# load time statistics\n",
    "time_statistics_large = pd.read_csv(\"data/time_statistics_large.csv\")\n",
    "\n",
    "# run test\n",
    "time_statistics_large = utils.test_run(test.FUNCTION, \"NAME_PD\", \"NAME_SPARK\", time_statistics_large, large_step_pd, large_step_spark, 10)\n",
    "\n",
    "# save time statistics\n",
    "time_statistics_large.to_csv(\"data/time_statistics_large.csv\", index=False)"
   ]
  },
  {
   "cell_type": "markdown",
   "metadata": {},
   "source": [
    "### HELPER"
   ]
  },
  {
   "cell_type": "code",
   "execution_count": 61,
   "metadata": {},
   "outputs": [
    {
     "name": "stderr",
     "output_type": "stream",
     "text": [
      "                                                                                \r"
     ]
    }
   ],
   "source": [
    "spark.stop()\n",
    "\n",
    "# Create a SparkSession\n",
    "spark = SparkSession.builder \\\n",
    "    .appName(\"Performance Analysis\") \\\n",
    "    .getOrCreate()\n",
    "\n",
    "# # load small step data\n",
    "small_step_spark = []\n",
    "for i in range(10_000, 100_001, 10_000):\n",
    "    df = spark.read.csv(f\"data/small/pandas_test_{i}_rows.csv\", header=True, inferSchema=True, sep=\",\")\n",
    "    small_step_spark.append(df)\n",
    "\n",
    "# load large step data\n",
    "large_step_spark = []\n",
    "for i in range(50_000, 1_000_001, 50_000):\n",
    "    df = spark.read.csv(f\"data/large/pandas_test_{i}_rows.csv\", header=True, inferSchema=True)\n",
    "    large_step_spark.append(df)"
   ]
  }
 ],
 "metadata": {
  "kernelspec": {
   "display_name": "data-science_dublin",
   "language": "python",
   "name": "python3"
  },
  "language_info": {
   "codemirror_mode": {
    "name": "ipython",
    "version": 3
   },
   "file_extension": ".py",
   "mimetype": "text/x-python",
   "name": "python",
   "nbconvert_exporter": "python",
   "pygments_lexer": "ipython3",
   "version": "3.7.16"
  },
  "orig_nbformat": 4
 },
 "nbformat": 4,
 "nbformat_minor": 2
}
